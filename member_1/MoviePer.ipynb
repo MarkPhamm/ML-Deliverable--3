{
 "cells": [
  {
   "cell_type": "code",
   "execution_count": 2,
   "metadata": {},
   "outputs": [],
   "source": [
    "import numpy as np\n",
    "import pandas as pd\n",
    "import matplotlib.pyplot as plt\n",
    "import seaborn as sns\n",
    "from sklearn.cluster import KMeans\n",
    "from sklearn.metrics import silhouette_score\n",
    "%matplotlib inline\n",
    "from sklearn.preprocessing import LabelEncoder\n",
    "import warnings\n",
    "warnings.filterwarnings('ignore')"
   ]
  },
  {
   "cell_type": "code",
   "execution_count": 3,
   "metadata": {},
   "outputs": [],
   "source": [
    "df = pd.read_csv('MoviePer.csv')"
   ]
  },
  {
   "cell_type": "code",
   "execution_count": 4,
   "metadata": {},
   "outputs": [
    {
     "data": {
      "text/html": [
       "<div>\n",
       "<style scoped>\n",
       "    .dataframe tbody tr th:only-of-type {\n",
       "        vertical-align: middle;\n",
       "    }\n",
       "\n",
       "    .dataframe tbody tr th {\n",
       "        vertical-align: top;\n",
       "    }\n",
       "\n",
       "    .dataframe thead th {\n",
       "        text-align: right;\n",
       "    }\n",
       "</style>\n",
       "<table border=\"1\" class=\"dataframe\">\n",
       "  <thead>\n",
       "    <tr style=\"text-align: right;\">\n",
       "      <th></th>\n",
       "      <th>ProfDU</th>\n",
       "      <th>BudgetDUM</th>\n",
       "      <th>OWkedDum</th>\n",
       "      <th>user_rating</th>\n",
       "      <th>movie_length</th>\n",
       "      <th>Director Value</th>\n",
       "      <th>specialeffects</th>\n",
       "      <th>Producer Power</th>\n",
       "      <th>Star Power</th>\n",
       "      <th>Profitable</th>\n",
       "      <th>Performance</th>\n",
       "      <th>grossboxoffice</th>\n",
       "      <th>BudgetDU</th>\n",
       "      <th>estmated_budget</th>\n",
       "      <th>opening_weekend</th>\n",
       "    </tr>\n",
       "  </thead>\n",
       "  <tbody>\n",
       "    <tr>\n",
       "      <th>0</th>\n",
       "      <td>1</td>\n",
       "      <td>1</td>\n",
       "      <td>1</td>\n",
       "      <td>3.6</td>\n",
       "      <td>93</td>\n",
       "      <td>2</td>\n",
       "      <td>2</td>\n",
       "      <td>2</td>\n",
       "      <td>2</td>\n",
       "      <td>YES</td>\n",
       "      <td>Mid</td>\n",
       "      <td>1433049</td>\n",
       "      <td>low</td>\n",
       "      <td>10000000</td>\n",
       "      <td>1771</td>\n",
       "    </tr>\n",
       "    <tr>\n",
       "      <th>1</th>\n",
       "      <td>0</td>\n",
       "      <td>1</td>\n",
       "      <td>1</td>\n",
       "      <td>6.2</td>\n",
       "      <td>85</td>\n",
       "      <td>1</td>\n",
       "      <td>2</td>\n",
       "      <td>1</td>\n",
       "      <td>1</td>\n",
       "      <td>NO</td>\n",
       "      <td>loss</td>\n",
       "      <td>83500</td>\n",
       "      <td>low</td>\n",
       "      <td>80000</td>\n",
       "      <td>3284</td>\n",
       "    </tr>\n",
       "    <tr>\n",
       "      <th>2</th>\n",
       "      <td>1</td>\n",
       "      <td>1</td>\n",
       "      <td>1</td>\n",
       "      <td>7.0</td>\n",
       "      <td>92</td>\n",
       "      <td>2</td>\n",
       "      <td>3</td>\n",
       "      <td>2</td>\n",
       "      <td>2</td>\n",
       "      <td>YES</td>\n",
       "      <td>Low</td>\n",
       "      <td>124720</td>\n",
       "      <td>low</td>\n",
       "      <td>5000000</td>\n",
       "      <td>4584</td>\n",
       "    </tr>\n",
       "    <tr>\n",
       "      <th>3</th>\n",
       "      <td>1</td>\n",
       "      <td>1</td>\n",
       "      <td>1</td>\n",
       "      <td>5.5</td>\n",
       "      <td>92</td>\n",
       "      <td>2</td>\n",
       "      <td>3</td>\n",
       "      <td>2</td>\n",
       "      <td>2</td>\n",
       "      <td>YES</td>\n",
       "      <td>Low</td>\n",
       "      <td>54020</td>\n",
       "      <td>low</td>\n",
       "      <td>450000</td>\n",
       "      <td>6722</td>\n",
       "    </tr>\n",
       "    <tr>\n",
       "      <th>4</th>\n",
       "      <td>1</td>\n",
       "      <td>1</td>\n",
       "      <td>1</td>\n",
       "      <td>6.0</td>\n",
       "      <td>103</td>\n",
       "      <td>3</td>\n",
       "      <td>3</td>\n",
       "      <td>2</td>\n",
       "      <td>1</td>\n",
       "      <td>YES</td>\n",
       "      <td>High</td>\n",
       "      <td>75078</td>\n",
       "      <td>low</td>\n",
       "      <td>14000000</td>\n",
       "      <td>9128</td>\n",
       "    </tr>\n",
       "  </tbody>\n",
       "</table>\n",
       "</div>"
      ],
      "text/plain": [
       "   ProfDU  BudgetDUM  OWkedDum  user_rating  movie_length  Director Value  \\\n",
       "0       1          1         1          3.6            93               2   \n",
       "1       0          1         1          6.2            85               1   \n",
       "2       1          1         1          7.0            92               2   \n",
       "3       1          1         1          5.5            92               2   \n",
       "4       1          1         1          6.0           103               3   \n",
       "\n",
       "   specialeffects  Producer Power  Star Power Profitable Performance  \\\n",
       "0               2               2           2        YES         Mid   \n",
       "1               2               1           1         NO        loss   \n",
       "2               3               2           2        YES         Low   \n",
       "3               3               2           2        YES         Low   \n",
       "4               3               2           1        YES        High   \n",
       "\n",
       "   grossboxoffice BudgetDU  estmated_budget  opening_weekend  \n",
       "0         1433049      low         10000000             1771  \n",
       "1           83500      low            80000             3284  \n",
       "2          124720      low          5000000             4584  \n",
       "3           54020      low           450000             6722  \n",
       "4           75078      low         14000000             9128  "
      ]
     },
     "execution_count": 4,
     "metadata": {},
     "output_type": "execute_result"
    }
   ],
   "source": [
    "df.head()"
   ]
  },
  {
   "cell_type": "code",
   "execution_count": 5,
   "metadata": {},
   "outputs": [
    {
     "name": "stdout",
     "output_type": "stream",
     "text": [
      "<class 'pandas.core.frame.DataFrame'>\n",
      "RangeIndex: 481 entries, 0 to 480\n",
      "Data columns (total 15 columns):\n",
      " #   Column           Non-Null Count  Dtype  \n",
      "---  ------           --------------  -----  \n",
      " 0   ProfDU           481 non-null    int64  \n",
      " 1   BudgetDUM        481 non-null    int64  \n",
      " 2   OWkedDum         481 non-null    int64  \n",
      " 3   user_rating      481 non-null    float64\n",
      " 4   movie_length     481 non-null    int64  \n",
      " 5   Director Value   481 non-null    int64  \n",
      " 6   specialeffects   481 non-null    int64  \n",
      " 7   Producer Power   481 non-null    int64  \n",
      " 8   Star Power       481 non-null    int64  \n",
      " 9   Profitable       481 non-null    object \n",
      " 10  Performance      481 non-null    object \n",
      " 11  grossboxoffice   481 non-null    int64  \n",
      " 12  BudgetDU         481 non-null    object \n",
      " 13  estmated_budget  481 non-null    int64  \n",
      " 14  opening_weekend  481 non-null    int64  \n",
      "dtypes: float64(1), int64(11), object(3)\n",
      "memory usage: 56.5+ KB\n"
     ]
    }
   ],
   "source": [
    "df.info()"
   ]
  },
  {
   "cell_type": "code",
   "execution_count": 6,
   "metadata": {},
   "outputs": [
    {
     "data": {
      "text/plain": [
       "Index(['ProfDU', 'BudgetDUM', 'OWkedDum', 'user_rating', 'movie_length',\n",
       "       'Director Value', 'specialeffects', 'Producer Power', 'Star Power',\n",
       "       'Profitable', 'Performance', 'grossboxoffice', 'BudgetDU',\n",
       "       'estmated_budget', 'opening_weekend'],\n",
       "      dtype='object')"
      ]
     },
     "execution_count": 6,
     "metadata": {},
     "output_type": "execute_result"
    }
   ],
   "source": [
    "df.columns"
   ]
  },
  {
   "cell_type": "code",
   "execution_count": 21,
   "metadata": {},
   "outputs": [],
   "source": [
    "numerical_columns = ['user_rating', 'movie_length', 'grossboxoffice','estmated_budget', 'opening_weekend']\n",
    "categorical_columns = [col for col in df.columns if col not in numerical_columns]"
   ]
  },
  {
   "cell_type": "code",
   "execution_count": 22,
   "metadata": {},
   "outputs": [],
   "source": [
    "# Loop through each column in the DataFrame\n",
    "for column in df.columns:\n",
    "    # Check if the column is of dtype 'object'\n",
    "    if df[column].dtype == 'object':\n",
    "        # Initialize LabelEncoder\n",
    "        label_encoder = LabelEncoder()\n",
    "        # Encode the values and replace them in the DataFrame\n",
    "        df[column] = label_encoder.fit_transform(df[column])"
   ]
  },
  {
   "cell_type": "markdown",
   "metadata": {},
   "source": [
    "# EDA "
   ]
  },
  {
   "cell_type": "code",
   "execution_count": 23,
   "metadata": {},
   "outputs": [
    {
     "data": {
      "image/png": "[encoded data removed]",
      "text/plain": [
       "<Figure size 1500x1000 with 15 Axes>"
      ]
     },
     "metadata": {},
     "output_type": "display_data"
    }
   ],
   "source": [
    "# Plotting subplots\n",
    "num_rows = 3\n",
    "num_cols = (len(numerical_columns) + len(categorical_columns) + num_rows - 1) // num_rows\n",
    "fig, axes = plt.subplots(nrows=num_rows, ncols=num_cols, figsize=(15, 10))\n",
    "\n",
    "for i, column in enumerate(numerical_columns):\n",
    "    row = i // num_cols\n",
    "    col = i % num_cols\n",
    "    sns.histplot(df[column], ax=axes[row][col], kde=True)\n",
    "    axes[row][col].set_title(column)\n",
    "\n",
    "for i, column in enumerate(categorical_columns):\n",
    "    row = (i + len(numerical_columns)) // num_cols\n",
    "    col = (i + len(numerical_columns)) % num_cols\n",
    "    sns.countplot(data=df, x=column, ax=axes[row][col])\n",
    "    axes[row][col].set_title(column)\n",
    "\n",
    "plt.tight_layout()\n",
    "plt.show()"
   ]
  },
  {
   "cell_type": "markdown",
   "metadata": {},
   "source": [
    "## Bivariate"
   ]
  },
  {
   "cell_type": "code",
   "execution_count": 24,
   "metadata": {},
   "outputs": [
    {
     "data": {
      "text/plain": [
       "<seaborn.axisgrid.PairGrid at 0x1daf7599e90>"
      ]
     },
     "execution_count": 24,
     "metadata": {},
     "output_type": "execute_result"
    },
    {
     "data": {
      "image/png": "[encoded data removed]",
      "text/plain": [
       "<Figure size 1250x1250 with 30 Axes>"
      ]
     },
     "metadata": {},
     "output_type": "display_data"
    }
   ],
   "source": [
    "sns.pairplot(df[numerical_columns])"
   ]
  },
  {
   "cell_type": "markdown",
   "metadata": {},
   "source": [
    "# Kmeans Clustering"
   ]
  },
  {
   "cell_type": "code",
   "execution_count": 25,
   "metadata": {},
   "outputs": [],
   "source": [
    "#Determine the number of clusters \n",
    "inertia_t = []\n",
    "for i in range(1, 12):\n",
    "    km = KMeans(n_clusters=i).fit(df)\n",
    "    inertia_t.append(km.inertia_)"
   ]
  },
  {
   "cell_type": "code",
   "execution_count": 26,
   "metadata": {},
   "outputs": [],
   "source": [
    "silhouette_scores = []\n",
    "\n",
    "for i in range(2, 12):  # Considering clusters from 2 to 11\n",
    "    km = KMeans(n_clusters=i)\n",
    "    km.fit(df)\n",
    "    silhouette_scores.append(silhouette_score(df, km.labels_))"
   ]
  },
  {
   "cell_type": "code",
   "execution_count": 27,
   "metadata": {},
   "outputs": [
    {
     "data": {
      "image/png": "[encoded data removed]",
      "text/plain": [
       "<Figure size 2000x500 with 1 Axes>"
      ]
     },
     "metadata": {},
     "output_type": "display_data"
    }
   ],
   "source": [
    "#Plot to check the suggested number of clusters\n",
    "plt.figure(figsize=(20,5))\n",
    "plt.subplot(1,2,2)\n",
    "sns.lineplot(x=range(1,12), y=inertia_t)\n",
    "plt.title('KMeans inertia on transformed data')\n",
    "plt.show()"
   ]
  },
  {
   "cell_type": "code",
   "execution_count": 28,
   "metadata": {},
   "outputs": [
    {
     "data": {
      "image/png": "[encoded data removed]",
      "text/plain": [
       "<Figure size 2000x500 with 1 Axes>"
      ]
     },
     "metadata": {},
     "output_type": "display_data"
    }
   ],
   "source": [
    "#Plot to check the suggested number of clusters\n",
    "plt.figure(figsize=(20,5))\n",
    "plt.subplot(1,2,2)\n",
    "sns.lineplot(x=range(2,12), y=silhouette_scores)\n",
    "plt.title('KMeans silhouette scores on transformed data')\n",
    "plt.show()"
   ]
  },
  {
   "cell_type": "code",
   "execution_count": 29,
   "metadata": {},
   "outputs": [],
   "source": [
    "# We will chose number of cluster = 4"
   ]
  },
  {
   "cell_type": "code",
   "execution_count": 30,
   "metadata": {},
   "outputs": [
    {
     "data": {
      "text/html": [
       "<style>#sk-container-id-1 {color: black;}#sk-container-id-1 pre{padding: 0;}#sk-container-id-1 div.sk-toggleable {background-color: white;}#sk-container-id-1 label.sk-toggleable__label {cursor: pointer;display: block;width: 100%;margin-bottom: 0;padding: 0.3em;box-sizing: border-box;text-align: center;}#sk-container-id-1 label.sk-toggleable__label-arrow:before {content: \"▸\";float: left;margin-right: 0.25em;color: #696969;}#sk-container-id-1 label.sk-toggleable__label-arrow:hover:before {color: black;}#sk-container-id-1 div.sk-estimator:hover label.sk-toggleable__label-arrow:before {color: black;}#sk-container-id-1 div.sk-toggleable__content {max-height: 0;max-width: 0;overflow: hidden;text-align: left;background-color: #f0f8ff;}#sk-container-id-1 div.sk-toggleable__content pre {margin: 0.2em;color: black;border-radius: 0.25em;background-color: #f0f8ff;}#sk-container-id-1 input.sk-toggleable__control:checked~div.sk-toggleable__content {max-height: 200px;max-width: 100%;overflow: auto;}#sk-container-id-1 input.sk-toggleable__control:checked~label.sk-toggleable__label-arrow:before {content: \"▾\";}#sk-container-id-1 div.sk-estimator input.sk-toggleable__control:checked~label.sk-toggleable__label {background-color: #d4ebff;}#sk-container-id-1 div.sk-label input.sk-toggleable__control:checked~label.sk-toggleable__label {background-color: #d4ebff;}#sk-container-id-1 input.sk-hidden--visually {border: 0;clip: rect(1px 1px 1px 1px);clip: rect(1px, 1px, 1px, 1px);height: 1px;margin: -1px;overflow: hidden;padding: 0;position: absolute;width: 1px;}#sk-container-id-1 div.sk-estimator {font-family: monospace;background-color: #f0f8ff;border: 1px dotted black;border-radius: 0.25em;box-sizing: border-box;margin-bottom: 0.5em;}#sk-container-id-1 div.sk-estimator:hover {background-color: #d4ebff;}#sk-container-id-1 div.sk-parallel-item::after {content: \"\";width: 100%;border-bottom: 1px solid gray;flex-grow: 1;}#sk-container-id-1 div.sk-label:hover label.sk-toggleable__label {background-color: #d4ebff;}#sk-container-id-1 div.sk-serial::before {content: \"\";position: absolute;border-left: 1px solid gray;box-sizing: border-box;top: 0;bottom: 0;left: 50%;z-index: 0;}#sk-container-id-1 div.sk-serial {display: flex;flex-direction: column;align-items: center;background-color: white;padding-right: 0.2em;padding-left: 0.2em;position: relative;}#sk-container-id-1 div.sk-item {position: relative;z-index: 1;}#sk-container-id-1 div.sk-parallel {display: flex;align-items: stretch;justify-content: center;background-color: white;position: relative;}#sk-container-id-1 div.sk-item::before, #sk-container-id-1 div.sk-parallel-item::before {content: \"\";position: absolute;border-left: 1px solid gray;box-sizing: border-box;top: 0;bottom: 0;left: 50%;z-index: -1;}#sk-container-id-1 div.sk-parallel-item {display: flex;flex-direction: column;z-index: 1;position: relative;background-color: white;}#sk-container-id-1 div.sk-parallel-item:first-child::after {align-self: flex-end;width: 50%;}#sk-container-id-1 div.sk-parallel-item:last-child::after {align-self: flex-start;width: 50%;}#sk-container-id-1 div.sk-parallel-item:only-child::after {width: 0;}#sk-container-id-1 div.sk-dashed-wrapped {border: 1px dashed gray;margin: 0 0.4em 0.5em 0.4em;box-sizing: border-box;padding-bottom: 0.4em;background-color: white;}#sk-container-id-1 div.sk-label label {font-family: monospace;font-weight: bold;display: inline-block;line-height: 1.2em;}#sk-container-id-1 div.sk-label-container {text-align: center;}#sk-container-id-1 div.sk-container {/* jupyter's `normalize.less` sets `[hidden] { display: none; }` but bootstrap.min.css set `[hidden] { display: none !important; }` so we also need the `!important` here to be able to override the default hidden behavior on the sphinx rendered scikit-learn.org. See: https://github.com/scikit-learn/scikit-learn/issues/21755 */display: inline-block !important;position: relative;}#sk-container-id-1 div.sk-text-repr-fallback {display: none;}</style><div id=\"sk-container-id-1\" class=\"sk-top-container\"><div class=\"sk-text-repr-fallback\"><pre>KMeans(max_iter=500, n_clusters=4, n_init=10)</pre><b>In a Jupyter environment, please rerun this cell to show the HTML representation or trust the notebook. <br />On GitHub, the HTML representation is unable to render, please try loading this page with nbviewer.org.</b></div><div class=\"sk-container\" hidden><div class=\"sk-item\"><div class=\"sk-estimator sk-toggleable\"><input class=\"sk-toggleable__control sk-hidden--visually\" id=\"sk-estimator-id-1\" type=\"checkbox\" checked><label for=\"sk-estimator-id-1\" class=\"sk-toggleable__label sk-toggleable__label-arrow\">KMeans</label><div class=\"sk-toggleable__content\"><pre>KMeans(max_iter=500, n_clusters=4, n_init=10)</pre></div></div></div></div></div>"
      ],
      "text/plain": [
       "KMeans(max_iter=500, n_clusters=4, n_init=10)"
      ]
     },
     "execution_count": 30,
     "metadata": {},
     "output_type": "execute_result"
    }
   ],
   "source": [
    "#Build the model\n",
    "kmeans4=KMeans(n_clusters=4,n_init=10,max_iter=500)\n",
    "kmeans4.fit(df)\n"
   ]
  },
  {
   "cell_type": "code",
   "execution_count": 32,
   "metadata": {},
   "outputs": [
    {
     "data": {
      "text/plain": [
       "array([[ 5.09803922e-01,  1.57142857e+00,  1.61344538e+00,\n",
       "         5.96610644e+00,  1.03226891e+02,  2.31372549e+00,\n",
       "         3.02801120e+00,  2.20728291e+00,  2.29971989e+00,\n",
       "         5.09803922e-01,  1.84593838e+00,  2.64512280e+07,\n",
       "         1.43137255e+00,  2.38033389e+07,  7.13610547e+06],\n",
       "       [-5.55111512e-17,  2.87500000e+00,  3.00000000e+00,\n",
       "         8.25000000e+00,  1.41375000e+02,  3.87500000e+00,\n",
       "         4.87500000e+00,  2.62500000e+00,  3.87500000e+00,\n",
       "        -5.55111512e-17,  3.00000000e+00,  8.53361705e+08,\n",
       "         2.50000000e-01,  1.42125000e+08,  9.42734392e+07],\n",
       "       [ 1.11022302e-16,  2.65000000e+00,  2.90000000e+00,\n",
       "         6.87000000e+00,  1.28300000e+02,  3.65000000e+00,\n",
       "         4.10000000e+00,  3.25000000e+00,  3.80000000e+00,\n",
       "         1.11022302e-16,  3.00000000e+00,  3.98566436e+08,\n",
       "         4.00000000e-01,  1.19550000e+08,  5.42109740e+07],\n",
       "       [ 1.66666667e-01,  2.37500000e+00,  2.84375000e+00,\n",
       "         6.36145833e+00,  1.14583333e+02,  3.15625000e+00,\n",
       "         3.72916667e+00,  2.59375000e+00,  3.30208333e+00,\n",
       "         1.66666667e-01,  2.54166667e+00,  1.46028053e+08,\n",
       "         6.45833333e-01,  8.58677083e+07,  3.10460702e+07]])"
      ]
     },
     "execution_count": 32,
     "metadata": {},
     "output_type": "execute_result"
    }
   ],
   "source": [
    "#Add the clusters into the initial dataframe (centers)\n",
    "df['clusters']=kmeans4.labels_ \n",
    "\n",
    "# take a look at the cluster center\n",
    "kmeans4.cluster_centers_"
   ]
  },
  {
   "cell_type": "code",
   "execution_count": 33,
   "metadata": {},
   "outputs": [
    {
     "data": {
      "text/html": [
       "<div>\n",
       "<style scoped>\n",
       "    .dataframe tbody tr th:only-of-type {\n",
       "        vertical-align: middle;\n",
       "    }\n",
       "\n",
       "    .dataframe tbody tr th {\n",
       "        vertical-align: top;\n",
       "    }\n",
       "\n",
       "    .dataframe thead th {\n",
       "        text-align: right;\n",
       "    }\n",
       "</style>\n",
       "<table border=\"1\" class=\"dataframe\">\n",
       "  <thead>\n",
       "    <tr style=\"text-align: right;\">\n",
       "      <th></th>\n",
       "      <th>ProfDU</th>\n",
       "      <th>BudgetDUM</th>\n",
       "      <th>OWkedDum</th>\n",
       "      <th>user_rating</th>\n",
       "      <th>movie_length</th>\n",
       "      <th>Director Value</th>\n",
       "      <th>specialeffects</th>\n",
       "      <th>Producer Power</th>\n",
       "      <th>Star Power</th>\n",
       "      <th>Profitable</th>\n",
       "      <th>Performance</th>\n",
       "      <th>grossboxoffice</th>\n",
       "      <th>BudgetDU</th>\n",
       "      <th>estmated_budget</th>\n",
       "      <th>opening_weekend</th>\n",
       "      <th>clusters</th>\n",
       "    </tr>\n",
       "  </thead>\n",
       "  <tbody>\n",
       "    <tr>\n",
       "      <th>0</th>\n",
       "      <td>1</td>\n",
       "      <td>1</td>\n",
       "      <td>1</td>\n",
       "      <td>3.6</td>\n",
       "      <td>93</td>\n",
       "      <td>2</td>\n",
       "      <td>2</td>\n",
       "      <td>2</td>\n",
       "      <td>2</td>\n",
       "      <td>1</td>\n",
       "      <td>2</td>\n",
       "      <td>1433049</td>\n",
       "      <td>2</td>\n",
       "      <td>10000000</td>\n",
       "      <td>1771</td>\n",
       "      <td>0</td>\n",
       "    </tr>\n",
       "    <tr>\n",
       "      <th>1</th>\n",
       "      <td>0</td>\n",
       "      <td>1</td>\n",
       "      <td>1</td>\n",
       "      <td>6.2</td>\n",
       "      <td>85</td>\n",
       "      <td>1</td>\n",
       "      <td>2</td>\n",
       "      <td>1</td>\n",
       "      <td>1</td>\n",
       "      <td>0</td>\n",
       "      <td>3</td>\n",
       "      <td>83500</td>\n",
       "      <td>2</td>\n",
       "      <td>80000</td>\n",
       "      <td>3284</td>\n",
       "      <td>0</td>\n",
       "    </tr>\n",
       "    <tr>\n",
       "      <th>2</th>\n",
       "      <td>1</td>\n",
       "      <td>1</td>\n",
       "      <td>1</td>\n",
       "      <td>7.0</td>\n",
       "      <td>92</td>\n",
       "      <td>2</td>\n",
       "      <td>3</td>\n",
       "      <td>2</td>\n",
       "      <td>2</td>\n",
       "      <td>1</td>\n",
       "      <td>1</td>\n",
       "      <td>124720</td>\n",
       "      <td>2</td>\n",
       "      <td>5000000</td>\n",
       "      <td>4584</td>\n",
       "      <td>0</td>\n",
       "    </tr>\n",
       "    <tr>\n",
       "      <th>3</th>\n",
       "      <td>1</td>\n",
       "      <td>1</td>\n",
       "      <td>1</td>\n",
       "      <td>5.5</td>\n",
       "      <td>92</td>\n",
       "      <td>2</td>\n",
       "      <td>3</td>\n",
       "      <td>2</td>\n",
       "      <td>2</td>\n",
       "      <td>1</td>\n",
       "      <td>1</td>\n",
       "      <td>54020</td>\n",
       "      <td>2</td>\n",
       "      <td>450000</td>\n",
       "      <td>6722</td>\n",
       "      <td>0</td>\n",
       "    </tr>\n",
       "    <tr>\n",
       "      <th>4</th>\n",
       "      <td>1</td>\n",
       "      <td>1</td>\n",
       "      <td>1</td>\n",
       "      <td>6.0</td>\n",
       "      <td>103</td>\n",
       "      <td>3</td>\n",
       "      <td>3</td>\n",
       "      <td>2</td>\n",
       "      <td>1</td>\n",
       "      <td>1</td>\n",
       "      <td>0</td>\n",
       "      <td>75078</td>\n",
       "      <td>2</td>\n",
       "      <td>14000000</td>\n",
       "      <td>9128</td>\n",
       "      <td>0</td>\n",
       "    </tr>\n",
       "  </tbody>\n",
       "</table>\n",
       "</div>"
      ],
      "text/plain": [
       "   ProfDU  BudgetDUM  OWkedDum  user_rating  movie_length  Director Value  \\\n",
       "0       1          1         1          3.6            93               2   \n",
       "1       0          1         1          6.2            85               1   \n",
       "2       1          1         1          7.0            92               2   \n",
       "3       1          1         1          5.5            92               2   \n",
       "4       1          1         1          6.0           103               3   \n",
       "\n",
       "   specialeffects  Producer Power  Star Power  Profitable  Performance  \\\n",
       "0               2               2           2           1            2   \n",
       "1               2               1           1           0            3   \n",
       "2               3               2           2           1            1   \n",
       "3               3               2           2           1            1   \n",
       "4               3               2           1           1            0   \n",
       "\n",
       "   grossboxoffice  BudgetDU  estmated_budget  opening_weekend  clusters  \n",
       "0         1433049         2         10000000             1771         0  \n",
       "1           83500         2            80000             3284         0  \n",
       "2          124720         2          5000000             4584         0  \n",
       "3           54020         2           450000             6722         0  \n",
       "4           75078         2         14000000             9128         0  "
      ]
     },
     "execution_count": 33,
     "metadata": {},
     "output_type": "execute_result"
    }
   ],
   "source": [
    "df.head()"
   ]
  },
  {
   "cell_type": "code",
   "execution_count": 40,
   "metadata": {},
   "outputs": [
    {
     "data": {
      "application/vnd.plotly.v1+json": {
       "config": {
        "plotlyServerURL": "https://plot.ly"
       },
       "data": [
        {
         "hovertemplate": "clusters=%{marker.color}<br>estmated_budget=%{x}<br>grossboxoffice=%{y}<br>user_rating=%{z}<extra></extra>",
         "legendgroup": "0",
         "marker": {
          "color": [
           0,
           0,
           0,
           0,
           0,
           0,
           0,
           0,
           0,
           0,
           0,
           0,
           0,
           0,
           0,
           0,
           0,
           0,
           0,
           0,
           0,
           0,
           0,
           0,
           0,
           0,
           0,
           0,
           0,
           0,
           0,
           0,
           0,
           0,
           0,
           0,
           0,
           0,
           0,
           0,
           0,
           0,
           0,
           0,
           0,
           0,
           0,
           0,
           0,
           0,
           0,
           0,
           0,
           0,
           0,
           0,
           0,
           0,
           0,
           0,
           0,
           0,
           0,
           0,
           0,
           0,
           0,
           0,
           0,
           0,
           0,
           0,
           0,
           0,
           0,
           0,
           0,
           0,
           0,
           0,
           0,
           0,
           0,
           0,
           0,
           0,
           0,
           0,
           0,
           0,
           0,
           0,
           0,
           0,
           0,
           0,
           0,
           0,
           0,
           0,
           0,
           0,
           0,
           0,
           0,
           0,
           0,
           0,
           0,
           0,
           0,
           0,
           0,
           0,
           0,
           0,
           0,
           0,
           0,
           0,
           0,
           0,
           0,
           0,
           0,
           0,
           0,
           0,
           0,
           0,
           0,
           0,
           0,
           0,
           0,
           0,
           0,
           0,
           0,
           0,
           0,
           0,
           0,
           0,
           0,
           0,
           0,
           0,
           0,
           0,
           0,
           0,
           0,
           0,
           0,
           0,
           0,
           0,
           0,
           0,
           0,
           0,
           0,
           0,
           0,
           0,
           0,
           0,
           0,
           0,
           0,
           0,
           0,
           0,
           0,
           0,
           0,
           0,
           0,
           0,
           0,
           0,
           0,
           0,
           0,
           0,
           0,
           0,
           0,
           0,
           0,
           0,
           0,
           0,
           0,
           0,
           0,
           0,
           0,
           0,
           0,
           0,
           0,
           0,
           0,
           0,
           0,
           0,
           0,
           0,
           0,
           0,
           0,
           0,
           0,
           0,
           0,
           0,
           0,
           0,
           0,
           0,
           0,
           0,
           0,
           0,
           0,
           0,
           0,
           0,
           0,
           0,
           0,
           0,
           0,
           0,
           0,
           0,
           0,
           0,
           0,
           0,
           0,
           0,
           0,
           0,
           0,
           0,
           0,
           0,
           0,
           0,
           0,
           0,
           0,
           0,
           0,
           0,
           0,
           0,
           0,
           0,
           0,
           0,
           0,
           0,
           0,
           0,
           0,
           0,
           0,
           0,
           0,
           0,
           0,
           0,
           0,
           0,
           0,
           0,
           0,
           0,
           0,
           0,
           0,
           0,
           0,
           0,
           0,
           0,
           0,
           0,
           0,
           0,
           0,
           0,
           0,
           0,
           0,
           0,
           0,
           0,
           0,
           0,
           0,
           0,
           0,
           0,
           0,
           0,
           0,
           0,
           0,
           0,
           0,
           0,
           0,
           0,
           0,
           0,
           0,
           0,
           0,
           0,
           0,
           0,
           0,
           0,
           0,
           0,
           0,
           0,
           0,
           0,
           0,
           0,
           0,
           0,
           0,
           0,
           0,
           0,
           0,
           0,
           0,
           0,
           0,
           0,
           0,
           0,
           0,
           0,
           0,
           0,
           0,
           0,
           0
          ],
          "coloraxis": "coloraxis",
          "opacity": 0.7,
          "symbol": "circle"
         },
         "mode": "markers",
         "name": "0",
         "scene": "scene",
         "showlegend": true,
         "type": "scatter3d",
         "x": [
          10000000,
          80000,
          5000000,
          450000,
          14000000,
          30000000,
          3750000,
          5000000,
          2000000,
          7000,
          1500000,
          5400000,
          9500000,
          200000,
          7000000,
          10000000,
          5500000,
          12000000,
          15000,
          1500000,
          900000,
          4500000,
          3500000,
          16800000,
          4750000,
          8000000,
          3000000,
          2000000,
          500000,
          800000,
          1000000,
          6000000,
          3500000,
          1000000,
          1800000,
          6000000,
          1800000,
          10000000,
          2500000,
          4000000,
          7000000,
          500000,
          950000,
          7000000,
          2500000,
          30000000,
          2000000,
          7000000,
          11000000,
          1600000,
          19400000,
          3500000,
          12000000,
          22000000,
          15000,
          2500000,
          150000,
          800000,
          8000000,
          250000,
          2000000,
          15000000,
          18000000,
          3000000,
          1500000,
          13000000,
          4500000,
          1500000,
          14000000,
          5250000,
          7000000,
          4000000,
          10000000,
          3200000,
          17000000,
          3000000,
          1000000,
          50000,
          5000000,
          21000000,
          7000000,
          4000000,
          35000000,
          10000000,
          9600000,
          2500000,
          4500000,
          8000000,
          2200000,
          13500000,
          12500000,
          6500000,
          18000000,
          40000000,
          15000000,
          20000000,
          2800000,
          4000000,
          38000000,
          2500000,
          5000000,
          1000000,
          25000000,
          8500000,
          10000000,
          13000000,
          15000000,
          15000000,
          6500000,
          13000000,
          9000000,
          2000000,
          20000000,
          14000000,
          25000000,
          9000000,
          13000000,
          3000000,
          25000000,
          10000000,
          18000000,
          8000000,
          16000000,
          16000000,
          20000000,
          20000000,
          10000000,
          34000000,
          18000000,
          4000000,
          48000000,
          11000000,
          16000000,
          25000000,
          60000000,
          750000,
          50000000,
          5000000,
          90000000,
          4000000,
          3000000,
          50000000,
          70000000,
          12000000,
          7000000,
          25000,
          6000000,
          16000000,
          15500000,
          40000000,
          15000000,
          20000000,
          10000000,
          11000000,
          22000000,
          35000000,
          5600000,
          38000000,
          13000000,
          35000000,
          11000000,
          25000000,
          22000000,
          10000000,
          20000000,
          10000000,
          50000000,
          45000000,
          14000000,
          35000000,
          18000000,
          30000000,
          8000000,
          20000000,
          16000000,
          5000000,
          11000000,
          9000000,
          30000000,
          25000000,
          15000000,
          35000000,
          8600000,
          20000000,
          60000000,
          35000000,
          23000000,
          30000000,
          40000000,
          26000000,
          35000000,
          17000000,
          25000000,
          25000000,
          25000000,
          30000000,
          70000000,
          7000000,
          42000000,
          50000000,
          70000000,
          42000000,
          35000000,
          23000000,
          72000000,
          22000000,
          120000000,
          7000000,
          16000000,
          9000000,
          6000000,
          24000000,
          30000000,
          28000000,
          8000000,
          15000000,
          20000000,
          20000000,
          35000000,
          80000000,
          15000000,
          16000000,
          60000000,
          100000000,
          52000000,
          12000000,
          50000000,
          70000000,
          31000000,
          22000000,
          33000000,
          20000000,
          21000000,
          19000000,
          50000000,
          15000000,
          21000000,
          55000000,
          20000000,
          35000000,
          22000000,
          40000000,
          35000000,
          60000000,
          25000000,
          22000000,
          18000000,
          29000000,
          40000000,
          25000000,
          24000000,
          65000000,
          52000000,
          60000000,
          25100000,
          58000000,
          57000000,
          9000000,
          20000000,
          60000000,
          70000000,
          35000000,
          40000000,
          58000000,
          8500000,
          35000000,
          20000000,
          45000000,
          28000000,
          15000000,
          40000000,
          11000000,
          25000000,
          60000000,
          30000000,
          22000000,
          17000000,
          10000000,
          70000000,
          15000000,
          18000000,
          35000000,
          62000000,
          35000000,
          50000000,
          87000000,
          25000000,
          95000000,
          24000000,
          14000000,
          28000000,
          30000000,
          70000000,
          55000000,
          35000000,
          19000000,
          15500000,
          42000000,
          48000000,
          11000000,
          30000000,
          12000000,
          13000000,
          40000000,
          68000000,
          85000000,
          33000000,
          60000000,
          75000000,
          65000000,
          8000000,
          35000000,
          30000000,
          20000000,
          35000000,
          35000000,
          12000000,
          45000000,
          60000000,
          48000000,
          17000000,
          24000000,
          26000000,
          30000000,
          25000000,
          80000000,
          17000000,
          16000000,
          40000000,
          70000000,
          20000000,
          49000000,
          28000000,
          34000000,
          16000000,
          80000000,
          45000000,
          2000000,
          18000000,
          20000000,
          20000000,
          12000000,
          35000000,
          45000000,
          15000000,
          22000000,
          29000000,
          35000000,
          50000000,
          13000000,
          38000000,
          70000000,
          9200000,
          45000000,
          30000000,
          20000000,
          25000000
         ],
         "y": [
          1433049,
          83500,
          124720,
          54020,
          75078,
          2975649,
          128092,
          267880,
          50080,
          70071,
          173066,
          114669,
          165831,
          856942,
          453079,
          884503,
          5580479,
          204331,
          192467,
          406035,
          381186,
          871577,
          101228,
          2281089,
          206624,
          52526,
          176300,
          53760,
          295468,
          2073984,
          187474,
          364636,
          220234,
          1706325,
          3050934,
          8596914,
          87939,
          580862,
          548712,
          342297,
          4760014,
          1114943,
          814666,
          34099640,
          305688,
          1731665,
          1568749,
          2344847,
          352786,
          145382,
          26522838,
          3735303,
          333976,
          1796024,
          107917283,
          352810,
          2882062,
          881950,
          60378584,
          4186931,
          19067631,
          4360548,
          7739049,
          2037545,
          3123749,
          3577210,
          727883,
          4599680,
          4432349,
          766487,
          2062066,
          864959,
          1284646,
          8243880,
          9451946,
          8821782,
          464991,
          249905,
          14015786,
          3081925,
          7455447,
          9304609,
          75225693,
          2185266,
          2483955,
          405182,
          1246237,
          16174377,
          379643,
          7060876,
          9030581,
          24792061,
          18329466,
          20999103,
          5305622,
          16248701,
          475000,
          56059000,
          623374,
          574940,
          1017376,
          7022940,
          24665649,
          7659918,
          887416,
          1150403,
          7757130,
          1294640,
          2025032,
          1875009,
          1046166,
          2506446,
          1646664,
          3100650,
          74273505,
          3060963,
          106882290,
          3293258,
          10103647,
          3542843,
          28008462,
          6350058,
          4646830,
          4839383,
          5205343,
          3744790,
          4356743,
          6543194,
          5658940,
          11805917,
          47095453,
          4814244,
          7307756,
          5516708,
          4535117,
          5518918,
          6291602,
          8704851,
          10364769,
          10515579,
          7059537,
          6471394,
          10166502,
          8195551,
          16829545,
          3509048,
          9821335,
          8819059,
          23213577,
          14241034,
          10411980,
          11169531,
          11560259,
          13103828,
          19039770,
          7948159,
          7009668,
          7659747,
          10996440,
          11631245,
          16515735,
          10911750,
          14252830,
          20342852,
          11596143,
          11043445,
          8742261,
          57497699,
          10397365,
          12201122,
          14793904,
          10955425,
          34266564,
          13214030,
          11915856,
          13350177,
          13592872,
          18225165,
          17833000,
          11008432,
          12549485,
          19389454,
          32685679,
          30028592,
          13082288,
          60694737,
          12189514,
          15709385,
          13698390,
          35402000,
          18324242,
          22734486,
          17718223,
          14379751,
          34816824,
          15589458,
          14294842,
          19390029,
          13208023,
          19593740,
          55286454,
          15738632,
          33807409,
          37000000,
          37317558,
          19351569,
          30212620,
          23247539,
          15045676,
          20035310,
          22235901,
          32662299,
          46432264,
          31355910,
          17427926,
          27441122,
          34126138,
          41622502,
          25266129,
          43935763,
          38574362,
          28734552,
          37479778,
          57312489,
          23020488,
          24741977,
          25195050,
          25852764,
          24185781,
          68106245,
          28927720,
          25077977,
          25296447,
          25893485,
          31874869,
          33051296,
          43090741,
          33828318,
          45542421,
          25871834,
          22264487,
          33508922,
          19297522,
          31670931,
          39008741,
          23530831,
          22452209,
          36684100,
          62771059,
          56422687,
          25003155,
          32598931,
          34636443,
          30063805,
          29434429,
          35231365,
          26838389,
          23086480,
          33687630,
          27011180,
          65977295,
          38700761,
          25178165,
          61347797,
          28563926,
          36779296,
          35990505,
          65470529,
          43052274,
          30238577,
          30981850,
          47488536,
          36609966,
          74208267,
          50222058,
          57479076,
          40500000,
          25464480,
          42086887,
          37664855,
          60057639,
          76747441,
          25857987,
          59699513,
          66002004,
          25607347,
          70992898,
          50802661,
          39687528,
          32645546,
          50255310,
          81001787,
          69766619,
          34238611,
          60400856,
          58156435,
          33682273,
          41543207,
          60020099,
          27445118,
          51599647,
          31691811,
          60008303,
          53082743,
          75715436,
          65900000,
          62022014,
          28031250,
          47000485,
          52397389,
          40066497,
          43650785,
          67325559,
          35596227,
          49474048,
          73023275,
          37188667,
          66790248,
          81124129,
          50315140,
          42672630,
          86941509,
          40168080,
          62877175,
          55973336,
          69772969,
          63102666,
          51685963,
          59068786,
          52474616,
          67192859,
          43905746,
          91826289,
          54098051,
          42638165,
          65948711,
          52580895,
          40990055,
          95001351,
          36842118,
          57744720,
          75074950,
          45802315,
          74484168,
          66966987,
          95708457,
          55845943,
          81150692,
          62318875,
          91057006,
          88915214,
          62647540,
          107071655,
          88504640,
          67253092,
          60072596,
          80014842
         ],
         "z": [
          3.6,
          6.2,
          7,
          5.5,
          6,
          7.1,
          6,
          6.7,
          6.8,
          5.9,
          6.5,
          6,
          6.1,
          7.1,
          5.9,
          7,
          7.1,
          5.6,
          6.4,
          7.3,
          6.5,
          7.8,
          6.4,
          6.1,
          5,
          5.6,
          6.9,
          5.9,
          5.8,
          7.1,
          7.1,
          6.5,
          6.3,
          7.2,
          7,
          7.1,
          6.6,
          5.7,
          7.1,
          6.6,
          6.3,
          6,
          6.2,
          6.9,
          6.6,
          7.3,
          6,
          6.9,
          6.8,
          6.7,
          7.5,
          6,
          6.2,
          5.6,
          6.6,
          7,
          6.2,
          4.6,
          7.4,
          6.8,
          7.2,
          6.5,
          7.1,
          6.3,
          6.3,
          6.8,
          8.2,
          7,
          5.5,
          5.2,
          6.6,
          7,
          5.9,
          7,
          7.2,
          6.7,
          3.7,
          6.2,
          6.7,
          7.3,
          6.5,
          7.1,
          7.5,
          6.3,
          6.6,
          6.5,
          3.2,
          7,
          5.6,
          7.3,
          7.8,
          7.8,
          8,
          7.9,
          7.2,
          7.9,
          5.9,
          6.7,
          5,
          4.8,
          6.1,
          6.8,
          7.4,
          7.1,
          5.4,
          7.1,
          8.1,
          6.3,
          5.5,
          7,
          3.7,
          4.8,
          2.6,
          3.7,
          8.3,
          4.7,
          8.4,
          4.5,
          6.4,
          5.9,
          6.1,
          7.2,
          7.2,
          6.4,
          6.5,
          6.9,
          3.6,
          5.2,
          6.1,
          6.7,
          6.2,
          4.9,
          4,
          4.7,
          3.8,
          6.8,
          5.5,
          5.1,
          4.4,
          6.8,
          2.4,
          4.8,
          6.8,
          6.7,
          5.6,
          6.8,
          3.3,
          6.2,
          7.3,
          5.7,
          5.2,
          6.5,
          5.6,
          7.3,
          6.9,
          6.1,
          1.8,
          4.9,
          6.4,
          3.6,
          5.9,
          6.5,
          5.1,
          6.9,
          6.7,
          6.7,
          3.8,
          3.2,
          4.9,
          5.3,
          5.2,
          6,
          7.5,
          7,
          5,
          3.7,
          4.8,
          7.2,
          6,
          6.9,
          5.8,
          7.5,
          6.5,
          7.4,
          6.5,
          4.8,
          5.8,
          6.7,
          6.1,
          5.7,
          7.2,
          5.5,
          6.5,
          4.7,
          1.7,
          5,
          3.5,
          6.9,
          3.2,
          7.3,
          6.1,
          5.6,
          3.6,
          6.6,
          6.8,
          5.7,
          5.3,
          5.2,
          5.8,
          4.5,
          5.6,
          6.7,
          6.6,
          4.6,
          6,
          6.8,
          8.5,
          5.8,
          6.2,
          5.3,
          3.8,
          6.1,
          7.4,
          8,
          5.2,
          5.1,
          4.9,
          2.8,
          6.8,
          7.3,
          5.2,
          4.7,
          6.6,
          6,
          5.9,
          4.2,
          7.5,
          5.9,
          6,
          4.4,
          4.3,
          6.9,
          4.8,
          6.7,
          6.8,
          7.1,
          4.6,
          4.3,
          5.6,
          6.5,
          6,
          6.2,
          6.6,
          5.8,
          6.6,
          3.4,
          6.4,
          4.6,
          6.4,
          6.4,
          5.4,
          6.8,
          6.1,
          6.2,
          4.7,
          5.6,
          5.7,
          5.9,
          6.3,
          5.2,
          4.1,
          4.6,
          4.1,
          5.3,
          7.3,
          6.5,
          5.4,
          5.9,
          6.1,
          3.9,
          7.2,
          6.2,
          5.4,
          7.1,
          4.7,
          4.1,
          4.3,
          6.5,
          6.2,
          6.1,
          6.7,
          8,
          6.8,
          5.8,
          4.8,
          5.7,
          6.3,
          6.1,
          4.8,
          6.1,
          5.5,
          6.1,
          4.5,
          8.4,
          5.3,
          5.2,
          6,
          5.1,
          4.9,
          5.7,
          2.7,
          4.6,
          7,
          6.5,
          5.1,
          4.9,
          2.9,
          6.5,
          6.7,
          7.3,
          4.7,
          7,
          5,
          7.4,
          5.9,
          6.3,
          5.3,
          5.8,
          6.1,
          6.3,
          3.9,
          5.6,
          7.1,
          5.9,
          4.5,
          6.7,
          5.3,
          5.7,
          6.2,
          6.3,
          5.8,
          6.2,
          6.4,
          6.8,
          4.8,
          6.8,
          6.2,
          4.9,
          6.6,
          5.9,
          6.4,
          7.2,
          6.1,
          7.7,
          7.1,
          3,
          5.9
         ]
        },
        {
         "hovertemplate": "clusters=%{marker.color}<br>estmated_budget=%{x}<br>grossboxoffice=%{y}<br>user_rating=%{z}<extra></extra>",
         "legendgroup": "3",
         "marker": {
          "color": [
           3,
           3,
           3,
           3,
           3,
           3,
           3,
           3,
           3,
           3,
           3,
           3,
           3,
           3,
           3,
           3,
           3,
           3,
           3,
           3,
           3,
           3,
           3,
           3,
           3,
           3,
           3,
           3,
           3,
           3,
           3,
           3,
           3,
           3,
           3,
           3,
           3,
           3,
           3,
           3,
           3,
           3,
           3,
           3,
           3,
           3,
           3,
           3,
           3,
           3,
           3,
           3,
           3,
           3,
           3,
           3,
           3,
           3,
           3,
           3,
           3,
           3,
           3,
           3,
           3,
           3,
           3,
           3,
           3,
           3,
           3,
           3,
           3,
           3,
           3,
           3,
           3,
           3,
           3,
           3,
           3,
           3,
           3,
           3,
           3,
           3,
           3,
           3,
           3,
           3,
           3,
           3,
           3,
           3,
           3,
           3
          ],
          "coloraxis": "coloraxis",
          "opacity": 0.7,
          "symbol": "diamond"
         },
         "mode": "markers",
         "name": "3",
         "scene": "scene",
         "showlegend": true,
         "type": "scatter3d",
         "x": [
          60800000,
          52500000,
          48000000,
          92000000,
          45000000,
          60000000,
          97000000,
          50000000,
          82000000,
          45000000,
          50000000,
          55000000,
          88000000,
          75000000,
          25000000,
          50000000,
          120000000,
          100000000,
          40000000,
          130000000,
          85000000,
          80000000,
          75000000,
          87000000,
          45000000,
          42000000,
          90000000,
          64000000,
          92000000,
          90000000,
          30000000,
          55000000,
          26000000,
          40000000,
          80000000,
          100000000,
          40000000,
          100000000,
          100000000,
          50000000,
          155000000,
          90000000,
          38000000,
          100000000,
          135000000,
          95000000,
          28000000,
          90000000,
          60000000,
          80000000,
          75000000,
          150000000,
          40000000,
          60000000,
          20000000,
          48000000,
          100000000,
          56000000,
          50000000,
          150000000,
          25000000,
          110000000,
          72000000,
          103000000,
          80000000,
          38000000,
          105000000,
          110000000,
          200000000,
          60000000,
          100000000,
          70000000,
          200000000,
          109000000,
          110000000,
          92000000,
          45000000,
          100000000,
          75000000,
          85000000,
          75000000,
          150000000,
          59000000,
          130000000,
          73000000,
          41000000,
          150000000,
          130000000,
          115000000,
          200000000,
          110000000,
          165000000,
          140000000,
          125000000,
          125000000,
          210000000
         ],
         "y": [
          132180323,
          179213434,
          207515725,
          108638745,
          104636188,
          170708996,
          190000000,
          170128460,
          96085477,
          101393569,
          122000000,
          168167691,
          105316267,
          109155885,
          119498909,
          113244290,
          93945766,
          67286731,
          141591324,
          152000000,
          131426169,
          126121167,
          180557550,
          148336445,
          101702060,
          117575636,
          102001626,
          101595121,
          143049560,
          156505388,
          122650962,
          178398138,
          160846332,
          96917897,
          123729176,
          81557479,
          95149435,
          249430327,
          65247655,
          177085826,
          104383624,
          75817994,
          170938575,
          97030725,
          163777560,
          191200000,
          102356381,
          132373442,
          121468960,
          109993847,
          202548575,
          82161969,
          190212113,
          104148781,
          114324072,
          138191428,
          124870275,
          113006880,
          110594793,
          119420252,
          146336178,
          134527196,
          75754670,
          258264745,
          266159621,
          180622424,
          94770548,
          118311368,
          105219735,
          244082376,
          95328937,
          116643346,
          90755643,
          100446895,
          125531634,
          264105545,
          178262620,
          197992827,
          133756285,
          154529187,
          196485100,
          133375846,
          188600000,
          138396624,
          148213377,
          116724075,
          224070000,
          185258983,
          255870172,
          166112167,
          227225045,
          238371987,
          198539855,
          217536138,
          186739919,
          234360014
         ],
         "z": [
          7.5,
          7.7,
          7.8,
          7.7,
          6.6,
          8,
          7.4,
          6,
          5.8,
          4.7,
          6.6,
          7.6,
          5.9,
          7.3,
          5.4,
          7.3,
          6.2,
          6.6,
          5.7,
          7.1,
          4.8,
          5.2,
          7,
          7.4,
          5.8,
          5.7,
          5.1,
          3.6,
          6.9,
          5.2,
          5.6,
          8.2,
          6.4,
          8.1,
          5.7,
          6.9,
          5.2,
          5,
          6.4,
          6.1,
          6.5,
          4.8,
          8,
          7.1,
          6,
          5.5,
          7.4,
          8.5,
          7.8,
          6.1,
          7.1,
          6.5,
          5.6,
          5.4,
          6.6,
          5.7,
          7.1,
          5.2,
          4.8,
          5,
          5.3,
          7.5,
          7.3,
          8.4,
          6.7,
          5.8,
          4.9,
          6.5,
          6.8,
          7,
          3.9,
          5.9,
          6.7,
          3.4,
          6.1,
          5.5,
          5,
          6.6,
          6.1,
          7.1,
          6.8,
          6.7,
          7.5,
          6.2,
          6.4,
          6.7,
          4.5,
          7.7,
          8,
          5.9,
          8.2,
          6.6,
          5.5,
          6.4,
          6.3,
          6.9
         ]
        },
        {
         "hovertemplate": "clusters=%{marker.color}<br>estmated_budget=%{x}<br>grossboxoffice=%{y}<br>user_rating=%{z}<extra></extra>",
         "legendgroup": "2",
         "marker": {
          "color": [
           2,
           2,
           2,
           2,
           2,
           2,
           2,
           2,
           2,
           2,
           2,
           2,
           2,
           2,
           2,
           2,
           2,
           2,
           2,
           2
          ],
          "coloraxis": "coloraxis",
          "opacity": 0.7,
          "symbol": "square"
         },
         "mode": "markers",
         "name": "2",
         "scene": "scene",
         "showlegend": true,
         "type": "scatter3d",
         "x": [
          45000000,
          140000000,
          55000000,
          52000000,
          52000000,
          70000000,
          85000000,
          85000000,
          145000000,
          110000000,
          142000000,
          150000000,
          120000000,
          209000000,
          120000000,
          98000000,
          115000000,
          113000000,
          185000000,
          300000000
         ],
         "y": [
          306776732,
          456758981,
          304850102,
          602609487,
          351112395,
          374111707,
          311312624,
          450717150,
          401128639,
          574480841,
          431971116,
          395668139,
          347234916,
          391081192,
          461981126,
          430000000,
          338800000,
          414318300,
          317011114,
          309404152
         ],
         "z": [
          7.2,
          7.8,
          7.8,
          6.5,
          7.8,
          6.3,
          6.9,
          7.6,
          5.1,
          6.4,
          6,
          6.8,
          7,
          6.5,
          7.4,
          6.2,
          6.8,
          7.8,
          6.5,
          7
         ]
        },
        {
         "hovertemplate": "clusters=%{marker.color}<br>estmated_budget=%{x}<br>grossboxoffice=%{y}<br>user_rating=%{z}<extra></extra>",
         "legendgroup": "1",
         "marker": {
          "color": [
           1,
           1,
           1,
           1,
           1,
           1,
           1,
           1
          ],
          "coloraxis": "coloraxis",
          "opacity": 0.7,
          "symbol": "x"
         },
         "mode": "markers",
         "name": "1",
         "scene": "scene",
         "showlegend": true,
         "type": "scatter3d",
         "x": [
          160000000,
          93000000,
          94000000,
          125000000,
          130000000,
          150000000,
          200000000,
          185000000
         ],
         "y": [
          820186685,
          870761744,
          864625978,
          976475550,
          761300818,
          895921036,
          635700000,
          1001921825
         ],
         "z": [
          8.9,
          8.8,
          8.2,
          7.2,
          7.7,
          7.6,
          8.7,
          8.9
         ]
        }
       ],
       "layout": {
        "coloraxis": {
         "colorbar": {
          "title": {
           "text": "clusters"
          }
         },
         "colorscale": [
          [
           0,
           "#0d0887"
          ],
          [
           0.1111111111111111,
           "#46039f"
          ],
          [
           0.2222222222222222,
           "#7201a8"
          ],
          [
           0.3333333333333333,
           "#9c179e"
          ],
          [
           0.4444444444444444,
           "#bd3786"
          ],
          [
           0.5555555555555556,
           "#d8576b"
          ],
          [
           0.6666666666666666,
           "#ed7953"
          ],
          [
           0.7777777777777778,
           "#fb9f3a"
          ],
          [
           0.8888888888888888,
           "#fdca26"
          ],
          [
           1,
           "#f0f921"
          ]
         ]
        },
        "legend": {
         "title": {
          "text": "clusters"
         },
         "tracegroupgap": 0
        },
        "scene": {
         "domain": {
          "x": [
           0,
           1
          ],
          "y": [
           0,
           1
          ]
         },
         "xaxis": {
          "title": {
           "text": "estmated_budget"
          }
         },
         "yaxis": {
          "title": {
           "text": "grossboxoffice"
          }
         },
         "zaxis": {
          "title": {
           "text": "user_rating"
          }
         }
        },
        "template": {
         "data": {
          "bar": [
           {
            "error_x": {
             "color": "#2a3f5f"
            },
            "error_y": {
             "color": "#2a3f5f"
            },
            "marker": {
             "line": {
              "color": "#E5ECF6",
              "width": 0.5
             },
             "pattern": {
              "fillmode": "overlay",
              "size": 10,
              "solidity": 0.2
             }
            },
            "type": "bar"
           }
          ],
          "barpolar": [
           {
            "marker": {
             "line": {
              "color": "#E5ECF6",
              "width": 0.5
             },
             "pattern": {
              "fillmode": "overlay",
              "size": 10,
              "solidity": 0.2
             }
            },
            "type": "barpolar"
           }
          ],
          "carpet": [
           {
            "aaxis": {
             "endlinecolor": "#2a3f5f",
             "gridcolor": "white",
             "linecolor": "white",
             "minorgridcolor": "white",
             "startlinecolor": "#2a3f5f"
            },
            "baxis": {
             "endlinecolor": "#2a3f5f",
             "gridcolor": "white",
             "linecolor": "white",
             "minorgridcolor": "white",
             "startlinecolor": "#2a3f5f"
            },
            "type": "carpet"
           }
          ],
          "choropleth": [
           {
            "colorbar": {
             "outlinewidth": 0,
             "ticks": ""
            },
            "type": "choropleth"
           }
          ],
          "contour": [
           {
            "colorbar": {
             "outlinewidth": 0,
             "ticks": ""
            },
            "colorscale": [
             [
              0,
              "#0d0887"
             ],
             [
              0.1111111111111111,
              "#46039f"
             ],
             [
              0.2222222222222222,
              "#7201a8"
             ],
             [
              0.3333333333333333,
              "#9c179e"
             ],
             [
              0.4444444444444444,
              "#bd3786"
             ],
             [
              0.5555555555555556,
              "#d8576b"
             ],
             [
              0.6666666666666666,
              "#ed7953"
             ],
             [
              0.7777777777777778,
              "#fb9f3a"
             ],
             [
              0.8888888888888888,
              "#fdca26"
             ],
             [
              1,
              "#f0f921"
             ]
            ],
            "type": "contour"
           }
          ],
          "contourcarpet": [
           {
            "colorbar": {
             "outlinewidth": 0,
             "ticks": ""
            },
            "type": "contourcarpet"
           }
          ],
          "heatmap": [
           {
            "colorbar": {
             "outlinewidth": 0,
             "ticks": ""
            },
            "colorscale": [
             [
              0,
              "#0d0887"
             ],
             [
              0.1111111111111111,
              "#46039f"
             ],
             [
              0.2222222222222222,
              "#7201a8"
             ],
             [
              0.3333333333333333,
              "#9c179e"
             ],
             [
              0.4444444444444444,
              "#bd3786"
             ],
             [
              0.5555555555555556,
              "#d8576b"
             ],
             [
              0.6666666666666666,
              "#ed7953"
             ],
             [
              0.7777777777777778,
              "#fb9f3a"
             ],
             [
              0.8888888888888888,
              "#fdca26"
             ],
             [
              1,
              "#f0f921"
             ]
            ],
            "type": "heatmap"
           }
          ],
          "heatmapgl": [
           {
            "colorbar": {
             "outlinewidth": 0,
             "ticks": ""
            },
            "colorscale": [
             [
              0,
              "#0d0887"
             ],
             [
              0.1111111111111111,
              "#46039f"
             ],
             [
              0.2222222222222222,
              "#7201a8"
             ],
             [
              0.3333333333333333,
              "#9c179e"
             ],
             [
              0.4444444444444444,
              "#bd3786"
             ],
             [
              0.5555555555555556,
              "#d8576b"
             ],
             [
              0.6666666666666666,
              "#ed7953"
             ],
             [
              0.7777777777777778,
              "#fb9f3a"
             ],
             [
              0.8888888888888888,
              "#fdca26"
             ],
             [
              1,
              "#f0f921"
             ]
            ],
            "type": "heatmapgl"
           }
          ],
          "histogram": [
           {
            "marker": {
             "pattern": {
              "fillmode": "overlay",
              "size": 10,
              "solidity": 0.2
             }
            },
            "type": "histogram"
           }
          ],
          "histogram2d": [
           {
            "colorbar": {
             "outlinewidth": 0,
             "ticks": ""
            },
            "colorscale": [
             [
              0,
              "#0d0887"
             ],
             [
              0.1111111111111111,
              "#46039f"
             ],
             [
              0.2222222222222222,
              "#7201a8"
             ],
             [
              0.3333333333333333,
              "#9c179e"
             ],
             [
              0.4444444444444444,
              "#bd3786"
             ],
             [
              0.5555555555555556,
              "#d8576b"
             ],
             [
              0.6666666666666666,
              "#ed7953"
             ],
             [
              0.7777777777777778,
              "#fb9f3a"
             ],
             [
              0.8888888888888888,
              "#fdca26"
             ],
             [
              1,
              "#f0f921"
             ]
            ],
            "type": "histogram2d"
           }
          ],
          "histogram2dcontour": [
           {
            "colorbar": {
             "outlinewidth": 0,
             "ticks": ""
            },
            "colorscale": [
             [
              0,
              "#0d0887"
             ],
             [
              0.1111111111111111,
              "#46039f"
             ],
             [
              0.2222222222222222,
              "#7201a8"
             ],
             [
              0.3333333333333333,
              "#9c179e"
             ],
             [
              0.4444444444444444,
              "#bd3786"
             ],
             [
              0.5555555555555556,
              "#d8576b"
             ],
             [
              0.6666666666666666,
              "#ed7953"
             ],
             [
              0.7777777777777778,
              "#fb9f3a"
             ],
             [
              0.8888888888888888,
              "#fdca26"
             ],
             [
              1,
              "#f0f921"
             ]
            ],
            "type": "histogram2dcontour"
           }
          ],
          "mesh3d": [
           {
            "colorbar": {
             "outlinewidth": 0,
             "ticks": ""
            },
            "type": "mesh3d"
           }
          ],
          "parcoords": [
           {
            "line": {
             "colorbar": {
              "outlinewidth": 0,
              "ticks": ""
             }
            },
            "type": "parcoords"
           }
          ],
          "pie": [
           {
            "automargin": true,
            "type": "pie"
           }
          ],
          "scatter": [
           {
            "fillpattern": {
             "fillmode": "overlay",
             "size": 10,
             "solidity": 0.2
            },
            "type": "scatter"
           }
          ],
          "scatter3d": [
           {
            "line": {
             "colorbar": {
              "outlinewidth": 0,
              "ticks": ""
             }
            },
            "marker": {
             "colorbar": {
              "outlinewidth": 0,
              "ticks": ""
             }
            },
            "type": "scatter3d"
           }
          ],
          "scattercarpet": [
           {
            "marker": {
             "colorbar": {
              "outlinewidth": 0,
              "ticks": ""
             }
            },
            "type": "scattercarpet"
           }
          ],
          "scattergeo": [
           {
            "marker": {
             "colorbar": {
              "outlinewidth": 0,
              "ticks": ""
             }
            },
            "type": "scattergeo"
           }
          ],
          "scattergl": [
           {
            "marker": {
             "colorbar": {
              "outlinewidth": 0,
              "ticks": ""
             }
            },
            "type": "scattergl"
           }
          ],
          "scattermapbox": [
           {
            "marker": {
             "colorbar": {
              "outlinewidth": 0,
              "ticks": ""
             }
            },
            "type": "scattermapbox"
           }
          ],
          "scatterpolar": [
           {
            "marker": {
             "colorbar": {
              "outlinewidth": 0,
              "ticks": ""
             }
            },
            "type": "scatterpolar"
           }
          ],
          "scatterpolargl": [
           {
            "marker": {
             "colorbar": {
              "outlinewidth": 0,
              "ticks": ""
             }
            },
            "type": "scatterpolargl"
           }
          ],
          "scatterternary": [
           {
            "marker": {
             "colorbar": {
              "outlinewidth": 0,
              "ticks": ""
             }
            },
            "type": "scatterternary"
           }
          ],
          "surface": [
           {
            "colorbar": {
             "outlinewidth": 0,
             "ticks": ""
            },
            "colorscale": [
             [
              0,
              "#0d0887"
             ],
             [
              0.1111111111111111,
              "#46039f"
             ],
             [
              0.2222222222222222,
              "#7201a8"
             ],
             [
              0.3333333333333333,
              "#9c179e"
             ],
             [
              0.4444444444444444,
              "#bd3786"
             ],
             [
              0.5555555555555556,
              "#d8576b"
             ],
             [
              0.6666666666666666,
              "#ed7953"
             ],
             [
              0.7777777777777778,
              "#fb9f3a"
             ],
             [
              0.8888888888888888,
              "#fdca26"
             ],
             [
              1,
              "#f0f921"
             ]
            ],
            "type": "surface"
           }
          ],
          "table": [
           {
            "cells": {
             "fill": {
              "color": "#EBF0F8"
             },
             "line": {
              "color": "white"
             }
            },
            "header": {
             "fill": {
              "color": "#C8D4E3"
             },
             "line": {
              "color": "white"
             }
            },
            "type": "table"
           }
          ]
         },
         "layout": {
          "annotationdefaults": {
           "arrowcolor": "#2a3f5f",
           "arrowhead": 0,
           "arrowwidth": 1
          },
          "autotypenumbers": "strict",
          "coloraxis": {
           "colorbar": {
            "outlinewidth": 0,
            "ticks": ""
           }
          },
          "colorscale": {
           "diverging": [
            [
             0,
             "#8e0152"
            ],
            [
             0.1,
             "#c51b7d"
            ],
            [
             0.2,
             "#de77ae"
            ],
            [
             0.3,
             "#f1b6da"
            ],
            [
             0.4,
             "#fde0ef"
            ],
            [
             0.5,
             "#f7f7f7"
            ],
            [
             0.6,
             "#e6f5d0"
            ],
            [
             0.7,
             "#b8e186"
            ],
            [
             0.8,
             "#7fbc41"
            ],
            [
             0.9,
             "#4d9221"
            ],
            [
             1,
             "#276419"
            ]
           ],
           "sequential": [
            [
             0,
             "#0d0887"
            ],
            [
             0.1111111111111111,
             "#46039f"
            ],
            [
             0.2222222222222222,
             "#7201a8"
            ],
            [
             0.3333333333333333,
             "#9c179e"
            ],
            [
             0.4444444444444444,
             "#bd3786"
            ],
            [
             0.5555555555555556,
             "#d8576b"
            ],
            [
             0.6666666666666666,
             "#ed7953"
            ],
            [
             0.7777777777777778,
             "#fb9f3a"
            ],
            [
             0.8888888888888888,
             "#fdca26"
            ],
            [
             1,
             "#f0f921"
            ]
           ],
           "sequentialminus": [
            [
             0,
             "#0d0887"
            ],
            [
             0.1111111111111111,
             "#46039f"
            ],
            [
             0.2222222222222222,
             "#7201a8"
            ],
            [
             0.3333333333333333,
             "#9c179e"
            ],
            [
             0.4444444444444444,
             "#bd3786"
            ],
            [
             0.5555555555555556,
             "#d8576b"
            ],
            [
             0.6666666666666666,
             "#ed7953"
            ],
            [
             0.7777777777777778,
             "#fb9f3a"
            ],
            [
             0.8888888888888888,
             "#fdca26"
            ],
            [
             1,
             "#f0f921"
            ]
           ]
          },
          "colorway": [
           "#636efa",
           "#EF553B",
           "#00cc96",
           "#ab63fa",
           "#FFA15A",
           "#19d3f3",
           "#FF6692",
           "#B6E880",
           "#FF97FF",
           "#FECB52"
          ],
          "font": {
           "color": "#2a3f5f"
          },
          "geo": {
           "bgcolor": "white",
           "lakecolor": "white",
           "landcolor": "#E5ECF6",
           "showlakes": true,
           "showland": true,
           "subunitcolor": "white"
          },
          "hoverlabel": {
           "align": "left"
          },
          "hovermode": "closest",
          "mapbox": {
           "style": "light"
          },
          "paper_bgcolor": "white",
          "plot_bgcolor": "#E5ECF6",
          "polar": {
           "angularaxis": {
            "gridcolor": "white",
            "linecolor": "white",
            "ticks": ""
           },
           "bgcolor": "#E5ECF6",
           "radialaxis": {
            "gridcolor": "white",
            "linecolor": "white",
            "ticks": ""
           }
          },
          "scene": {
           "xaxis": {
            "backgroundcolor": "#E5ECF6",
            "gridcolor": "white",
            "gridwidth": 2,
            "linecolor": "white",
            "showbackground": true,
            "ticks": "",
            "zerolinecolor": "white"
           },
           "yaxis": {
            "backgroundcolor": "#E5ECF6",
            "gridcolor": "white",
            "gridwidth": 2,
            "linecolor": "white",
            "showbackground": true,
            "ticks": "",
            "zerolinecolor": "white"
           },
           "zaxis": {
            "backgroundcolor": "#E5ECF6",
            "gridcolor": "white",
            "gridwidth": 2,
            "linecolor": "white",
            "showbackground": true,
            "ticks": "",
            "zerolinecolor": "white"
           }
          },
          "shapedefaults": {
           "line": {
            "color": "#2a3f5f"
           }
          },
          "ternary": {
           "aaxis": {
            "gridcolor": "white",
            "linecolor": "white",
            "ticks": ""
           },
           "baxis": {
            "gridcolor": "white",
            "linecolor": "white",
            "ticks": ""
           },
           "bgcolor": "#E5ECF6",
           "caxis": {
            "gridcolor": "white",
            "linecolor": "white",
            "ticks": ""
           }
          },
          "title": {
           "x": 0.05
          },
          "xaxis": {
           "automargin": true,
           "gridcolor": "white",
           "linecolor": "white",
           "ticks": "",
           "title": {
            "standoff": 15
           },
           "zerolinecolor": "white",
           "zerolinewidth": 2
          },
          "yaxis": {
           "automargin": true,
           "gridcolor": "white",
           "linecolor": "white",
           "ticks": "",
           "title": {
            "standoff": 15
           },
           "zerolinecolor": "white",
           "zerolinewidth": 2
          }
         }
        },
        "title": {
         "text": "3D Scatter Plot of Clusters"
        }
       }
      }
     },
     "metadata": {},
     "output_type": "display_data"
    }
   ],
   "source": [
    "import plotly.express as px\n",
    "\n",
    "# Assuming df is your DataFrame with the specified columns\n",
    "\n",
    "fig = px.scatter_3d(df, x='estmated_budget', y='grossboxoffice', z='user_rating', color='clusters',\n",
    "                    symbol='clusters', opacity=0.7, size_max=10,\n",
    "                    title='3D Scatter Plot of Clusters', color_discrete_sequence=px.colors.qualitative.Set1)\n",
    "fig.show()\n"
   ]
  },
  {
   "cell_type": "code",
   "execution_count": 42,
   "metadata": {},
   "outputs": [
    {
     "data": {
      "application/vnd.plotly.v1+json": {
       "config": {
        "plotlyServerURL": "https://plot.ly"
       },
       "data": [
        {
         "hovertemplate": "clusters=%{marker.color}<br>estmated_budget=%{x}<br>grossboxoffice=%{y}<extra></extra>",
         "legendgroup": "0",
         "marker": {
          "color": [
           0,
           0,
           0,
           0,
           0,
           0,
           0,
           0,
           0,
           0,
           0,
           0,
           0,
           0,
           0,
           0,
           0,
           0,
           0,
           0,
           0,
           0,
           0,
           0,
           0,
           0,
           0,
           0,
           0,
           0,
           0,
           0,
           0,
           0,
           0,
           0,
           0,
           0,
           0,
           0,
           0,
           0,
           0,
           0,
           0,
           0,
           0,
           0,
           0,
           0,
           0,
           0,
           0,
           0,
           0,
           0,
           0,
           0,
           0,
           0,
           0,
           0,
           0,
           0,
           0,
           0,
           0,
           0,
           0,
           0,
           0,
           0,
           0,
           0,
           0,
           0,
           0,
           0,
           0,
           0,
           0,
           0,
           0,
           0,
           0,
           0,
           0,
           0,
           0,
           0,
           0,
           0,
           0,
           0,
           0,
           0,
           0,
           0,
           0,
           0,
           0,
           0,
           0,
           0,
           0,
           0,
           0,
           0,
           0,
           0,
           0,
           0,
           0,
           0,
           0,
           0,
           0,
           0,
           0,
           0,
           0,
           0,
           0,
           0,
           0,
           0,
           0,
           0,
           0,
           0,
           0,
           0,
           0,
           0,
           0,
           0,
           0,
           0,
           0,
           0,
           0,
           0,
           0,
           0,
           0,
           0,
           0,
           0,
           0,
           0,
           0,
           0,
           0,
           0,
           0,
           0,
           0,
           0,
           0,
           0,
           0,
           0,
           0,
           0,
           0,
           0,
           0,
           0,
           0,
           0,
           0,
           0,
           0,
           0,
           0,
           0,
           0,
           0,
           0,
           0,
           0,
           0,
           0,
           0,
           0,
           0,
           0,
           0,
           0,
           0,
           0,
           0,
           0,
           0,
           0,
           0,
           0,
           0,
           0,
           0,
           0,
           0,
           0,
           0,
           0,
           0,
           0,
           0,
           0,
           0,
           0,
           0,
           0,
           0,
           0,
           0,
           0,
           0,
           0,
           0,
           0,
           0,
           0,
           0,
           0,
           0,
           0,
           0,
           0,
           0,
           0,
           0,
           0,
           0,
           0,
           0,
           0,
           0,
           0,
           0,
           0,
           0,
           0,
           0,
           0,
           0,
           0,
           0,
           0,
           0,
           0,
           0,
           0,
           0,
           0,
           0,
           0,
           0,
           0,
           0,
           0,
           0,
           0,
           0,
           0,
           0,
           0,
           0,
           0,
           0,
           0,
           0,
           0,
           0,
           0,
           0,
           0,
           0,
           0,
           0,
           0,
           0,
           0,
           0,
           0,
           0,
           0,
           0,
           0,
           0,
           0,
           0,
           0,
           0,
           0,
           0,
           0,
           0,
           0,
           0,
           0,
           0,
           0,
           0,
           0,
           0,
           0,
           0,
           0,
           0,
           0,
           0,
           0,
           0,
           0,
           0,
           0,
           0,
           0,
           0,
           0,
           0,
           0,
           0,
           0,
           0,
           0,
           0,
           0,
           0,
           0,
           0,
           0,
           0,
           0,
           0,
           0,
           0,
           0,
           0,
           0,
           0,
           0,
           0,
           0,
           0,
           0,
           0,
           0,
           0,
           0,
           0,
           0,
           0,
           0,
           0,
           0
          ],
          "coloraxis": "coloraxis",
          "opacity": 0.7,
          "symbol": "circle"
         },
         "mode": "markers",
         "name": "0",
         "orientation": "v",
         "showlegend": true,
         "type": "scatter",
         "x": [
          10000000,
          80000,
          5000000,
          450000,
          14000000,
          30000000,
          3750000,
          5000000,
          2000000,
          7000,
          1500000,
          5400000,
          9500000,
          200000,
          7000000,
          10000000,
          5500000,
          12000000,
          15000,
          1500000,
          900000,
          4500000,
          3500000,
          16800000,
          4750000,
          8000000,
          3000000,
          2000000,
          500000,
          800000,
          1000000,
          6000000,
          3500000,
          1000000,
          1800000,
          6000000,
          1800000,
          10000000,
          2500000,
          4000000,
          7000000,
          500000,
          950000,
          7000000,
          2500000,
          30000000,
          2000000,
          7000000,
          11000000,
          1600000,
          19400000,
          3500000,
          12000000,
          22000000,
          15000,
          2500000,
          150000,
          800000,
          8000000,
          250000,
          2000000,
          15000000,
          18000000,
          3000000,
          1500000,
          13000000,
          4500000,
          1500000,
          14000000,
          5250000,
          7000000,
          4000000,
          10000000,
          3200000,
          17000000,
          3000000,
          1000000,
          50000,
          5000000,
          21000000,
          7000000,
          4000000,
          35000000,
          10000000,
          9600000,
          2500000,
          4500000,
          8000000,
          2200000,
          13500000,
          12500000,
          6500000,
          18000000,
          40000000,
          15000000,
          20000000,
          2800000,
          4000000,
          38000000,
          2500000,
          5000000,
          1000000,
          25000000,
          8500000,
          10000000,
          13000000,
          15000000,
          15000000,
          6500000,
          13000000,
          9000000,
          2000000,
          20000000,
          14000000,
          25000000,
          9000000,
          13000000,
          3000000,
          25000000,
          10000000,
          18000000,
          8000000,
          16000000,
          16000000,
          20000000,
          20000000,
          10000000,
          34000000,
          18000000,
          4000000,
          48000000,
          11000000,
          16000000,
          25000000,
          60000000,
          750000,
          50000000,
          5000000,
          90000000,
          4000000,
          3000000,
          50000000,
          70000000,
          12000000,
          7000000,
          25000,
          6000000,
          16000000,
          15500000,
          40000000,
          15000000,
          20000000,
          10000000,
          11000000,
          22000000,
          35000000,
          5600000,
          38000000,
          13000000,
          35000000,
          11000000,
          25000000,
          22000000,
          10000000,
          20000000,
          10000000,
          50000000,
          45000000,
          14000000,
          35000000,
          18000000,
          30000000,
          8000000,
          20000000,
          16000000,
          5000000,
          11000000,
          9000000,
          30000000,
          25000000,
          15000000,
          35000000,
          8600000,
          20000000,
          60000000,
          35000000,
          23000000,
          30000000,
          40000000,
          26000000,
          35000000,
          17000000,
          25000000,
          25000000,
          25000000,
          30000000,
          70000000,
          7000000,
          42000000,
          50000000,
          70000000,
          42000000,
          35000000,
          23000000,
          72000000,
          22000000,
          120000000,
          7000000,
          16000000,
          9000000,
          6000000,
          24000000,
          30000000,
          28000000,
          8000000,
          15000000,
          20000000,
          20000000,
          35000000,
          80000000,
          15000000,
          16000000,
          60000000,
          100000000,
          52000000,
          12000000,
          50000000,
          70000000,
          31000000,
          22000000,
          33000000,
          20000000,
          21000000,
          19000000,
          50000000,
          15000000,
          21000000,
          55000000,
          20000000,
          35000000,
          22000000,
          40000000,
          35000000,
          60000000,
          25000000,
          22000000,
          18000000,
          29000000,
          40000000,
          25000000,
          24000000,
          65000000,
          52000000,
          60000000,
          25100000,
          58000000,
          57000000,
          9000000,
          20000000,
          60000000,
          70000000,
          35000000,
          40000000,
          58000000,
          8500000,
          35000000,
          20000000,
          45000000,
          28000000,
          15000000,
          40000000,
          11000000,
          25000000,
          60000000,
          30000000,
          22000000,
          17000000,
          10000000,
          70000000,
          15000000,
          18000000,
          35000000,
          62000000,
          35000000,
          50000000,
          87000000,
          25000000,
          95000000,
          24000000,
          14000000,
          28000000,
          30000000,
          70000000,
          55000000,
          35000000,
          19000000,
          15500000,
          42000000,
          48000000,
          11000000,
          30000000,
          12000000,
          13000000,
          40000000,
          68000000,
          85000000,
          33000000,
          60000000,
          75000000,
          65000000,
          8000000,
          35000000,
          30000000,
          20000000,
          35000000,
          35000000,
          12000000,
          45000000,
          60000000,
          48000000,
          17000000,
          24000000,
          26000000,
          30000000,
          25000000,
          80000000,
          17000000,
          16000000,
          40000000,
          70000000,
          20000000,
          49000000,
          28000000,
          34000000,
          16000000,
          80000000,
          45000000,
          2000000,
          18000000,
          20000000,
          20000000,
          12000000,
          35000000,
          45000000,
          15000000,
          22000000,
          29000000,
          35000000,
          50000000,
          13000000,
          38000000,
          70000000,
          9200000,
          45000000,
          30000000,
          20000000,
          25000000
         ],
         "xaxis": "x",
         "y": [
          1433049,
          83500,
          124720,
          54020,
          75078,
          2975649,
          128092,
          267880,
          50080,
          70071,
          173066,
          114669,
          165831,
          856942,
          453079,
          884503,
          5580479,
          204331,
          192467,
          406035,
          381186,
          871577,
          101228,
          2281089,
          206624,
          52526,
          176300,
          53760,
          295468,
          2073984,
          187474,
          364636,
          220234,
          1706325,
          3050934,
          8596914,
          87939,
          580862,
          548712,
          342297,
          4760014,
          1114943,
          814666,
          34099640,
          305688,
          1731665,
          1568749,
          2344847,
          352786,
          145382,
          26522838,
          3735303,
          333976,
          1796024,
          107917283,
          352810,
          2882062,
          881950,
          60378584,
          4186931,
          19067631,
          4360548,
          7739049,
          2037545,
          3123749,
          3577210,
          727883,
          4599680,
          4432349,
          766487,
          2062066,
          864959,
          1284646,
          8243880,
          9451946,
          8821782,
          464991,
          249905,
          14015786,
          3081925,
          7455447,
          9304609,
          75225693,
          2185266,
          2483955,
          405182,
          1246237,
          16174377,
          379643,
          7060876,
          9030581,
          24792061,
          18329466,
          20999103,
          5305622,
          16248701,
          475000,
          56059000,
          623374,
          574940,
          1017376,
          7022940,
          24665649,
          7659918,
          887416,
          1150403,
          7757130,
          1294640,
          2025032,
          1875009,
          1046166,
          2506446,
          1646664,
          3100650,
          74273505,
          3060963,
          106882290,
          3293258,
          10103647,
          3542843,
          28008462,
          6350058,
          4646830,
          4839383,
          5205343,
          3744790,
          4356743,
          6543194,
          5658940,
          11805917,
          47095453,
          4814244,
          7307756,
          5516708,
          4535117,
          5518918,
          6291602,
          8704851,
          10364769,
          10515579,
          7059537,
          6471394,
          10166502,
          8195551,
          16829545,
          3509048,
          9821335,
          8819059,
          23213577,
          14241034,
          10411980,
          11169531,
          11560259,
          13103828,
          19039770,
          7948159,
          7009668,
          7659747,
          10996440,
          11631245,
          16515735,
          10911750,
          14252830,
          20342852,
          11596143,
          11043445,
          8742261,
          57497699,
          10397365,
          12201122,
          14793904,
          10955425,
          34266564,
          13214030,
          11915856,
          13350177,
          13592872,
          18225165,
          17833000,
          11008432,
          12549485,
          19389454,
          32685679,
          30028592,
          13082288,
          60694737,
          12189514,
          15709385,
          13698390,
          35402000,
          18324242,
          22734486,
          17718223,
          14379751,
          34816824,
          15589458,
          14294842,
          19390029,
          13208023,
          19593740,
          55286454,
          15738632,
          33807409,
          37000000,
          37317558,
          19351569,
          30212620,
          23247539,
          15045676,
          20035310,
          22235901,
          32662299,
          46432264,
          31355910,
          17427926,
          27441122,
          34126138,
          41622502,
          25266129,
          43935763,
          38574362,
          28734552,
          37479778,
          57312489,
          23020488,
          24741977,
          25195050,
          25852764,
          24185781,
          68106245,
          28927720,
          25077977,
          25296447,
          25893485,
          31874869,
          33051296,
          43090741,
          33828318,
          45542421,
          25871834,
          22264487,
          33508922,
          19297522,
          31670931,
          39008741,
          23530831,
          22452209,
          36684100,
          62771059,
          56422687,
          25003155,
          32598931,
          34636443,
          30063805,
          29434429,
          35231365,
          26838389,
          23086480,
          33687630,
          27011180,
          65977295,
          38700761,
          25178165,
          61347797,
          28563926,
          36779296,
          35990505,
          65470529,
          43052274,
          30238577,
          30981850,
          47488536,
          36609966,
          74208267,
          50222058,
          57479076,
          40500000,
          25464480,
          42086887,
          37664855,
          60057639,
          76747441,
          25857987,
          59699513,
          66002004,
          25607347,
          70992898,
          50802661,
          39687528,
          32645546,
          50255310,
          81001787,
          69766619,
          34238611,
          60400856,
          58156435,
          33682273,
          41543207,
          60020099,
          27445118,
          51599647,
          31691811,
          60008303,
          53082743,
          75715436,
          65900000,
          62022014,
          28031250,
          47000485,
          52397389,
          40066497,
          43650785,
          67325559,
          35596227,
          49474048,
          73023275,
          37188667,
          66790248,
          81124129,
          50315140,
          42672630,
          86941509,
          40168080,
          62877175,
          55973336,
          69772969,
          63102666,
          51685963,
          59068786,
          52474616,
          67192859,
          43905746,
          91826289,
          54098051,
          42638165,
          65948711,
          52580895,
          40990055,
          95001351,
          36842118,
          57744720,
          75074950,
          45802315,
          74484168,
          66966987,
          95708457,
          55845943,
          81150692,
          62318875,
          91057006,
          88915214,
          62647540,
          107071655,
          88504640,
          67253092,
          60072596,
          80014842
         ],
         "yaxis": "y"
        },
        {
         "hovertemplate": "clusters=%{marker.color}<br>estmated_budget=%{x}<br>grossboxoffice=%{y}<extra></extra>",
         "legendgroup": "3",
         "marker": {
          "color": [
           3,
           3,
           3,
           3,
           3,
           3,
           3,
           3,
           3,
           3,
           3,
           3,
           3,
           3,
           3,
           3,
           3,
           3,
           3,
           3,
           3,
           3,
           3,
           3,
           3,
           3,
           3,
           3,
           3,
           3,
           3,
           3,
           3,
           3,
           3,
           3,
           3,
           3,
           3,
           3,
           3,
           3,
           3,
           3,
           3,
           3,
           3,
           3,
           3,
           3,
           3,
           3,
           3,
           3,
           3,
           3,
           3,
           3,
           3,
           3,
           3,
           3,
           3,
           3,
           3,
           3,
           3,
           3,
           3,
           3,
           3,
           3,
           3,
           3,
           3,
           3,
           3,
           3,
           3,
           3,
           3,
           3,
           3,
           3,
           3,
           3,
           3,
           3,
           3,
           3,
           3,
           3,
           3,
           3,
           3,
           3
          ],
          "coloraxis": "coloraxis",
          "opacity": 0.7,
          "symbol": "diamond"
         },
         "mode": "markers",
         "name": "3",
         "orientation": "v",
         "showlegend": true,
         "type": "scatter",
         "x": [
          60800000,
          52500000,
          48000000,
          92000000,
          45000000,
          60000000,
          97000000,
          50000000,
          82000000,
          45000000,
          50000000,
          55000000,
          88000000,
          75000000,
          25000000,
          50000000,
          120000000,
          100000000,
          40000000,
          130000000,
          85000000,
          80000000,
          75000000,
          87000000,
          45000000,
          42000000,
          90000000,
          64000000,
          92000000,
          90000000,
          30000000,
          55000000,
          26000000,
          40000000,
          80000000,
          100000000,
          40000000,
          100000000,
          100000000,
          50000000,
          155000000,
          90000000,
          38000000,
          100000000,
          135000000,
          95000000,
          28000000,
          90000000,
          60000000,
          80000000,
          75000000,
          150000000,
          40000000,
          60000000,
          20000000,
          48000000,
          100000000,
          56000000,
          50000000,
          150000000,
          25000000,
          110000000,
          72000000,
          103000000,
          80000000,
          38000000,
          105000000,
          110000000,
          200000000,
          60000000,
          100000000,
          70000000,
          200000000,
          109000000,
          110000000,
          92000000,
          45000000,
          100000000,
          75000000,
          85000000,
          75000000,
          150000000,
          59000000,
          130000000,
          73000000,
          41000000,
          150000000,
          130000000,
          115000000,
          200000000,
          110000000,
          165000000,
          140000000,
          125000000,
          125000000,
          210000000
         ],
         "xaxis": "x",
         "y": [
          132180323,
          179213434,
          207515725,
          108638745,
          104636188,
          170708996,
          190000000,
          170128460,
          96085477,
          101393569,
          122000000,
          168167691,
          105316267,
          109155885,
          119498909,
          113244290,
          93945766,
          67286731,
          141591324,
          152000000,
          131426169,
          126121167,
          180557550,
          148336445,
          101702060,
          117575636,
          102001626,
          101595121,
          143049560,
          156505388,
          122650962,
          178398138,
          160846332,
          96917897,
          123729176,
          81557479,
          95149435,
          249430327,
          65247655,
          177085826,
          104383624,
          75817994,
          170938575,
          97030725,
          163777560,
          191200000,
          102356381,
          132373442,
          121468960,
          109993847,
          202548575,
          82161969,
          190212113,
          104148781,
          114324072,
          138191428,
          124870275,
          113006880,
          110594793,
          119420252,
          146336178,
          134527196,
          75754670,
          258264745,
          266159621,
          180622424,
          94770548,
          118311368,
          105219735,
          244082376,
          95328937,
          116643346,
          90755643,
          100446895,
          125531634,
          264105545,
          178262620,
          197992827,
          133756285,
          154529187,
          196485100,
          133375846,
          188600000,
          138396624,
          148213377,
          116724075,
          224070000,
          185258983,
          255870172,
          166112167,
          227225045,
          238371987,
          198539855,
          217536138,
          186739919,
          234360014
         ],
         "yaxis": "y"
        },
        {
         "hovertemplate": "clusters=%{marker.color}<br>estmated_budget=%{x}<br>grossboxoffice=%{y}<extra></extra>",
         "legendgroup": "2",
         "marker": {
          "color": [
           2,
           2,
           2,
           2,
           2,
           2,
           2,
           2,
           2,
           2,
           2,
           2,
           2,
           2,
           2,
           2,
           2,
           2,
           2,
           2
          ],
          "coloraxis": "coloraxis",
          "opacity": 0.7,
          "symbol": "square"
         },
         "mode": "markers",
         "name": "2",
         "orientation": "v",
         "showlegend": true,
         "type": "scatter",
         "x": [
          45000000,
          140000000,
          55000000,
          52000000,
          52000000,
          70000000,
          85000000,
          85000000,
          145000000,
          110000000,
          142000000,
          150000000,
          120000000,
          209000000,
          120000000,
          98000000,
          115000000,
          113000000,
          185000000,
          300000000
         ],
         "xaxis": "x",
         "y": [
          306776732,
          456758981,
          304850102,
          602609487,
          351112395,
          374111707,
          311312624,
          450717150,
          401128639,
          574480841,
          431971116,
          395668139,
          347234916,
          391081192,
          461981126,
          430000000,
          338800000,
          414318300,
          317011114,
          309404152
         ],
         "yaxis": "y"
        },
        {
         "hovertemplate": "clusters=%{marker.color}<br>estmated_budget=%{x}<br>grossboxoffice=%{y}<extra></extra>",
         "legendgroup": "1",
         "marker": {
          "color": [
           1,
           1,
           1,
           1,
           1,
           1,
           1,
           1
          ],
          "coloraxis": "coloraxis",
          "opacity": 0.7,
          "symbol": "x"
         },
         "mode": "markers",
         "name": "1",
         "orientation": "v",
         "showlegend": true,
         "type": "scatter",
         "x": [
          160000000,
          93000000,
          94000000,
          125000000,
          130000000,
          150000000,
          200000000,
          185000000
         ],
         "xaxis": "x",
         "y": [
          820186685,
          870761744,
          864625978,
          976475550,
          761300818,
          895921036,
          635700000,
          1001921825
         ],
         "yaxis": "y"
        }
       ],
       "layout": {
        "coloraxis": {
         "colorbar": {
          "title": {
           "text": "clusters"
          }
         },
         "colorscale": [
          [
           0,
           "#0d0887"
          ],
          [
           0.1111111111111111,
           "#46039f"
          ],
          [
           0.2222222222222222,
           "#7201a8"
          ],
          [
           0.3333333333333333,
           "#9c179e"
          ],
          [
           0.4444444444444444,
           "#bd3786"
          ],
          [
           0.5555555555555556,
           "#d8576b"
          ],
          [
           0.6666666666666666,
           "#ed7953"
          ],
          [
           0.7777777777777778,
           "#fb9f3a"
          ],
          [
           0.8888888888888888,
           "#fdca26"
          ],
          [
           1,
           "#f0f921"
          ]
         ]
        },
        "legend": {
         "title": {
          "text": "clusters"
         },
         "tracegroupgap": 0
        },
        "template": {
         "data": {
          "bar": [
           {
            "error_x": {
             "color": "#2a3f5f"
            },
            "error_y": {
             "color": "#2a3f5f"
            },
            "marker": {
             "line": {
              "color": "#E5ECF6",
              "width": 0.5
             },
             "pattern": {
              "fillmode": "overlay",
              "size": 10,
              "solidity": 0.2
             }
            },
            "type": "bar"
           }
          ],
          "barpolar": [
           {
            "marker": {
             "line": {
              "color": "#E5ECF6",
              "width": 0.5
             },
             "pattern": {
              "fillmode": "overlay",
              "size": 10,
              "solidity": 0.2
             }
            },
            "type": "barpolar"
           }
          ],
          "carpet": [
           {
            "aaxis": {
             "endlinecolor": "#2a3f5f",
             "gridcolor": "white",
             "linecolor": "white",
             "minorgridcolor": "white",
             "startlinecolor": "#2a3f5f"
            },
            "baxis": {
             "endlinecolor": "#2a3f5f",
             "gridcolor": "white",
             "linecolor": "white",
             "minorgridcolor": "white",
             "startlinecolor": "#2a3f5f"
            },
            "type": "carpet"
           }
          ],
          "choropleth": [
           {
            "colorbar": {
             "outlinewidth": 0,
             "ticks": ""
            },
            "type": "choropleth"
           }
          ],
          "contour": [
           {
            "colorbar": {
             "outlinewidth": 0,
             "ticks": ""
            },
            "colorscale": [
             [
              0,
              "#0d0887"
             ],
             [
              0.1111111111111111,
              "#46039f"
             ],
             [
              0.2222222222222222,
              "#7201a8"
             ],
             [
              0.3333333333333333,
              "#9c179e"
             ],
             [
              0.4444444444444444,
              "#bd3786"
             ],
             [
              0.5555555555555556,
              "#d8576b"
             ],
             [
              0.6666666666666666,
              "#ed7953"
             ],
             [
              0.7777777777777778,
              "#fb9f3a"
             ],
             [
              0.8888888888888888,
              "#fdca26"
             ],
             [
              1,
              "#f0f921"
             ]
            ],
            "type": "contour"
           }
          ],
          "contourcarpet": [
           {
            "colorbar": {
             "outlinewidth": 0,
             "ticks": ""
            },
            "type": "contourcarpet"
           }
          ],
          "heatmap": [
           {
            "colorbar": {
             "outlinewidth": 0,
             "ticks": ""
            },
            "colorscale": [
             [
              0,
              "#0d0887"
             ],
             [
              0.1111111111111111,
              "#46039f"
             ],
             [
              0.2222222222222222,
              "#7201a8"
             ],
             [
              0.3333333333333333,
              "#9c179e"
             ],
             [
              0.4444444444444444,
              "#bd3786"
             ],
             [
              0.5555555555555556,
              "#d8576b"
             ],
             [
              0.6666666666666666,
              "#ed7953"
             ],
             [
              0.7777777777777778,
              "#fb9f3a"
             ],
             [
              0.8888888888888888,
              "#fdca26"
             ],
             [
              1,
              "#f0f921"
             ]
            ],
            "type": "heatmap"
           }
          ],
          "heatmapgl": [
           {
            "colorbar": {
             "outlinewidth": 0,
             "ticks": ""
            },
            "colorscale": [
             [
              0,
              "#0d0887"
             ],
             [
              0.1111111111111111,
              "#46039f"
             ],
             [
              0.2222222222222222,
              "#7201a8"
             ],
             [
              0.3333333333333333,
              "#9c179e"
             ],
             [
              0.4444444444444444,
              "#bd3786"
             ],
             [
              0.5555555555555556,
              "#d8576b"
             ],
             [
              0.6666666666666666,
              "#ed7953"
             ],
             [
              0.7777777777777778,
              "#fb9f3a"
             ],
             [
              0.8888888888888888,
              "#fdca26"
             ],
             [
              1,
              "#f0f921"
             ]
            ],
            "type": "heatmapgl"
           }
          ],
          "histogram": [
           {
            "marker": {
             "pattern": {
              "fillmode": "overlay",
              "size": 10,
              "solidity": 0.2
             }
            },
            "type": "histogram"
           }
          ],
          "histogram2d": [
           {
            "colorbar": {
             "outlinewidth": 0,
             "ticks": ""
            },
            "colorscale": [
             [
              0,
              "#0d0887"
             ],
             [
              0.1111111111111111,
              "#46039f"
             ],
             [
              0.2222222222222222,
              "#7201a8"
             ],
             [
              0.3333333333333333,
              "#9c179e"
             ],
             [
              0.4444444444444444,
              "#bd3786"
             ],
             [
              0.5555555555555556,
              "#d8576b"
             ],
             [
              0.6666666666666666,
              "#ed7953"
             ],
             [
              0.7777777777777778,
              "#fb9f3a"
             ],
             [
              0.8888888888888888,
              "#fdca26"
             ],
             [
              1,
              "#f0f921"
             ]
            ],
            "type": "histogram2d"
           }
          ],
          "histogram2dcontour": [
           {
            "colorbar": {
             "outlinewidth": 0,
             "ticks": ""
            },
            "colorscale": [
             [
              0,
              "#0d0887"
             ],
             [
              0.1111111111111111,
              "#46039f"
             ],
             [
              0.2222222222222222,
              "#7201a8"
             ],
             [
              0.3333333333333333,
              "#9c179e"
             ],
             [
              0.4444444444444444,
              "#bd3786"
             ],
             [
              0.5555555555555556,
              "#d8576b"
             ],
             [
              0.6666666666666666,
              "#ed7953"
             ],
             [
              0.7777777777777778,
              "#fb9f3a"
             ],
             [
              0.8888888888888888,
              "#fdca26"
             ],
             [
              1,
              "#f0f921"
             ]
            ],
            "type": "histogram2dcontour"
           }
          ],
          "mesh3d": [
           {
            "colorbar": {
             "outlinewidth": 0,
             "ticks": ""
            },
            "type": "mesh3d"
           }
          ],
          "parcoords": [
           {
            "line": {
             "colorbar": {
              "outlinewidth": 0,
              "ticks": ""
             }
            },
            "type": "parcoords"
           }
          ],
          "pie": [
           {
            "automargin": true,
            "type": "pie"
           }
          ],
          "scatter": [
           {
            "fillpattern": {
             "fillmode": "overlay",
             "size": 10,
             "solidity": 0.2
            },
            "type": "scatter"
           }
          ],
          "scatter3d": [
           {
            "line": {
             "colorbar": {
              "outlinewidth": 0,
              "ticks": ""
             }
            },
            "marker": {
             "colorbar": {
              "outlinewidth": 0,
              "ticks": ""
             }
            },
            "type": "scatter3d"
           }
          ],
          "scattercarpet": [
           {
            "marker": {
             "colorbar": {
              "outlinewidth": 0,
              "ticks": ""
             }
            },
            "type": "scattercarpet"
           }
          ],
          "scattergeo": [
           {
            "marker": {
             "colorbar": {
              "outlinewidth": 0,
              "ticks": ""
             }
            },
            "type": "scattergeo"
           }
          ],
          "scattergl": [
           {
            "marker": {
             "colorbar": {
              "outlinewidth": 0,
              "ticks": ""
             }
            },
            "type": "scattergl"
           }
          ],
          "scattermapbox": [
           {
            "marker": {
             "colorbar": {
              "outlinewidth": 0,
              "ticks": ""
             }
            },
            "type": "scattermapbox"
           }
          ],
          "scatterpolar": [
           {
            "marker": {
             "colorbar": {
              "outlinewidth": 0,
              "ticks": ""
             }
            },
            "type": "scatterpolar"
           }
          ],
          "scatterpolargl": [
           {
            "marker": {
             "colorbar": {
              "outlinewidth": 0,
              "ticks": ""
             }
            },
            "type": "scatterpolargl"
           }
          ],
          "scatterternary": [
           {
            "marker": {
             "colorbar": {
              "outlinewidth": 0,
              "ticks": ""
             }
            },
            "type": "scatterternary"
           }
          ],
          "surface": [
           {
            "colorbar": {
             "outlinewidth": 0,
             "ticks": ""
            },
            "colorscale": [
             [
              0,
              "#0d0887"
             ],
             [
              0.1111111111111111,
              "#46039f"
             ],
             [
              0.2222222222222222,
              "#7201a8"
             ],
             [
              0.3333333333333333,
              "#9c179e"
             ],
             [
              0.4444444444444444,
              "#bd3786"
             ],
             [
              0.5555555555555556,
              "#d8576b"
             ],
             [
              0.6666666666666666,
              "#ed7953"
             ],
             [
              0.7777777777777778,
              "#fb9f3a"
             ],
             [
              0.8888888888888888,
              "#fdca26"
             ],
             [
              1,
              "#f0f921"
             ]
            ],
            "type": "surface"
           }
          ],
          "table": [
           {
            "cells": {
             "fill": {
              "color": "#EBF0F8"
             },
             "line": {
              "color": "white"
             }
            },
            "header": {
             "fill": {
              "color": "#C8D4E3"
             },
             "line": {
              "color": "white"
             }
            },
            "type": "table"
           }
          ]
         },
         "layout": {
          "annotationdefaults": {
           "arrowcolor": "#2a3f5f",
           "arrowhead": 0,
           "arrowwidth": 1
          },
          "autotypenumbers": "strict",
          "coloraxis": {
           "colorbar": {
            "outlinewidth": 0,
            "ticks": ""
           }
          },
          "colorscale": {
           "diverging": [
            [
             0,
             "#8e0152"
            ],
            [
             0.1,
             "#c51b7d"
            ],
            [
             0.2,
             "#de77ae"
            ],
            [
             0.3,
             "#f1b6da"
            ],
            [
             0.4,
             "#fde0ef"
            ],
            [
             0.5,
             "#f7f7f7"
            ],
            [
             0.6,
             "#e6f5d0"
            ],
            [
             0.7,
             "#b8e186"
            ],
            [
             0.8,
             "#7fbc41"
            ],
            [
             0.9,
             "#4d9221"
            ],
            [
             1,
             "#276419"
            ]
           ],
           "sequential": [
            [
             0,
             "#0d0887"
            ],
            [
             0.1111111111111111,
             "#46039f"
            ],
            [
             0.2222222222222222,
             "#7201a8"
            ],
            [
             0.3333333333333333,
             "#9c179e"
            ],
            [
             0.4444444444444444,
             "#bd3786"
            ],
            [
             0.5555555555555556,
             "#d8576b"
            ],
            [
             0.6666666666666666,
             "#ed7953"
            ],
            [
             0.7777777777777778,
             "#fb9f3a"
            ],
            [
             0.8888888888888888,
             "#fdca26"
            ],
            [
             1,
             "#f0f921"
            ]
           ],
           "sequentialminus": [
            [
             0,
             "#0d0887"
            ],
            [
             0.1111111111111111,
             "#46039f"
            ],
            [
             0.2222222222222222,
             "#7201a8"
            ],
            [
             0.3333333333333333,
             "#9c179e"
            ],
            [
             0.4444444444444444,
             "#bd3786"
            ],
            [
             0.5555555555555556,
             "#d8576b"
            ],
            [
             0.6666666666666666,
             "#ed7953"
            ],
            [
             0.7777777777777778,
             "#fb9f3a"
            ],
            [
             0.8888888888888888,
             "#fdca26"
            ],
            [
             1,
             "#f0f921"
            ]
           ]
          },
          "colorway": [
           "#636efa",
           "#EF553B",
           "#00cc96",
           "#ab63fa",
           "#FFA15A",
           "#19d3f3",
           "#FF6692",
           "#B6E880",
           "#FF97FF",
           "#FECB52"
          ],
          "font": {
           "color": "#2a3f5f"
          },
          "geo": {
           "bgcolor": "white",
           "lakecolor": "white",
           "landcolor": "#E5ECF6",
           "showlakes": true,
           "showland": true,
           "subunitcolor": "white"
          },
          "hoverlabel": {
           "align": "left"
          },
          "hovermode": "closest",
          "mapbox": {
           "style": "light"
          },
          "paper_bgcolor": "white",
          "plot_bgcolor": "#E5ECF6",
          "polar": {
           "angularaxis": {
            "gridcolor": "white",
            "linecolor": "white",
            "ticks": ""
           },
           "bgcolor": "#E5ECF6",
           "radialaxis": {
            "gridcolor": "white",
            "linecolor": "white",
            "ticks": ""
           }
          },
          "scene": {
           "xaxis": {
            "backgroundcolor": "#E5ECF6",
            "gridcolor": "white",
            "gridwidth": 2,
            "linecolor": "white",
            "showbackground": true,
            "ticks": "",
            "zerolinecolor": "white"
           },
           "yaxis": {
            "backgroundcolor": "#E5ECF6",
            "gridcolor": "white",
            "gridwidth": 2,
            "linecolor": "white",
            "showbackground": true,
            "ticks": "",
            "zerolinecolor": "white"
           },
           "zaxis": {
            "backgroundcolor": "#E5ECF6",
            "gridcolor": "white",
            "gridwidth": 2,
            "linecolor": "white",
            "showbackground": true,
            "ticks": "",
            "zerolinecolor": "white"
           }
          },
          "shapedefaults": {
           "line": {
            "color": "#2a3f5f"
           }
          },
          "ternary": {
           "aaxis": {
            "gridcolor": "white",
            "linecolor": "white",
            "ticks": ""
           },
           "baxis": {
            "gridcolor": "white",
            "linecolor": "white",
            "ticks": ""
           },
           "bgcolor": "#E5ECF6",
           "caxis": {
            "gridcolor": "white",
            "linecolor": "white",
            "ticks": ""
           }
          },
          "title": {
           "x": 0.05
          },
          "xaxis": {
           "automargin": true,
           "gridcolor": "white",
           "linecolor": "white",
           "ticks": "",
           "title": {
            "standoff": 15
           },
           "zerolinecolor": "white",
           "zerolinewidth": 2
          },
          "yaxis": {
           "automargin": true,
           "gridcolor": "white",
           "linecolor": "white",
           "ticks": "",
           "title": {
            "standoff": 15
           },
           "zerolinecolor": "white",
           "zerolinewidth": 2
          }
         }
        },
        "title": {
         "text": "2D Scatter Plot of Clusters"
        },
        "xaxis": {
         "anchor": "y",
         "domain": [
          0,
          1
         ],
         "title": {
          "text": "estmated_budget"
         }
        },
        "yaxis": {
         "anchor": "x",
         "domain": [
          0,
          1
         ],
         "title": {
          "text": "grossboxoffice"
         }
        }
       }
      }
     },
     "metadata": {},
     "output_type": "display_data"
    }
   ],
   "source": [
    "fig = px.scatter(df, x='estmated_budget', y='grossboxoffice', color='clusters',\n",
    "                 symbol='clusters', opacity=0.7, size_max=10,\n",
    "                 title='2D Scatter Plot of Clusters', color_discrete_sequence=px.colors.qualitative.Set1)\n",
    "fig.show()"
   ]
  },
  {
   "cell_type": "code",
   "execution_count": 44,
   "metadata": {},
   "outputs": [
    {
     "data": {
      "application/vnd.plotly.v1+json": {
       "config": {
        "plotlyServerURL": "https://plot.ly"
       },
       "data": [
        {
         "hovertemplate": "clusters=%{marker.color}<br>grossboxoffice=%{x}<br>user_rating=%{y}<extra></extra>",
         "legendgroup": "0",
         "marker": {
          "color": [
           0,
           0,
           0,
           0,
           0,
           0,
           0,
           0,
           0,
           0,
           0,
           0,
           0,
           0,
           0,
           0,
           0,
           0,
           0,
           0,
           0,
           0,
           0,
           0,
           0,
           0,
           0,
           0,
           0,
           0,
           0,
           0,
           0,
           0,
           0,
           0,
           0,
           0,
           0,
           0,
           0,
           0,
           0,
           0,
           0,
           0,
           0,
           0,
           0,
           0,
           0,
           0,
           0,
           0,
           0,
           0,
           0,
           0,
           0,
           0,
           0,
           0,
           0,
           0,
           0,
           0,
           0,
           0,
           0,
           0,
           0,
           0,
           0,
           0,
           0,
           0,
           0,
           0,
           0,
           0,
           0,
           0,
           0,
           0,
           0,
           0,
           0,
           0,
           0,
           0,
           0,
           0,
           0,
           0,
           0,
           0,
           0,
           0,
           0,
           0,
           0,
           0,
           0,
           0,
           0,
           0,
           0,
           0,
           0,
           0,
           0,
           0,
           0,
           0,
           0,
           0,
           0,
           0,
           0,
           0,
           0,
           0,
           0,
           0,
           0,
           0,
           0,
           0,
           0,
           0,
           0,
           0,
           0,
           0,
           0,
           0,
           0,
           0,
           0,
           0,
           0,
           0,
           0,
           0,
           0,
           0,
           0,
           0,
           0,
           0,
           0,
           0,
           0,
           0,
           0,
           0,
           0,
           0,
           0,
           0,
           0,
           0,
           0,
           0,
           0,
           0,
           0,
           0,
           0,
           0,
           0,
           0,
           0,
           0,
           0,
           0,
           0,
           0,
           0,
           0,
           0,
           0,
           0,
           0,
           0,
           0,
           0,
           0,
           0,
           0,
           0,
           0,
           0,
           0,
           0,
           0,
           0,
           0,
           0,
           0,
           0,
           0,
           0,
           0,
           0,
           0,
           0,
           0,
           0,
           0,
           0,
           0,
           0,
           0,
           0,
           0,
           0,
           0,
           0,
           0,
           0,
           0,
           0,
           0,
           0,
           0,
           0,
           0,
           0,
           0,
           0,
           0,
           0,
           0,
           0,
           0,
           0,
           0,
           0,
           0,
           0,
           0,
           0,
           0,
           0,
           0,
           0,
           0,
           0,
           0,
           0,
           0,
           0,
           0,
           0,
           0,
           0,
           0,
           0,
           0,
           0,
           0,
           0,
           0,
           0,
           0,
           0,
           0,
           0,
           0,
           0,
           0,
           0,
           0,
           0,
           0,
           0,
           0,
           0,
           0,
           0,
           0,
           0,
           0,
           0,
           0,
           0,
           0,
           0,
           0,
           0,
           0,
           0,
           0,
           0,
           0,
           0,
           0,
           0,
           0,
           0,
           0,
           0,
           0,
           0,
           0,
           0,
           0,
           0,
           0,
           0,
           0,
           0,
           0,
           0,
           0,
           0,
           0,
           0,
           0,
           0,
           0,
           0,
           0,
           0,
           0,
           0,
           0,
           0,
           0,
           0,
           0,
           0,
           0,
           0,
           0,
           0,
           0,
           0,
           0,
           0,
           0,
           0,
           0,
           0,
           0,
           0,
           0,
           0,
           0,
           0,
           0,
           0,
           0,
           0,
           0,
           0
          ],
          "coloraxis": "coloraxis",
          "opacity": 0.7,
          "symbol": "circle"
         },
         "mode": "markers",
         "name": "0",
         "orientation": "v",
         "showlegend": true,
         "type": "scatter",
         "x": [
          1433049,
          83500,
          124720,
          54020,
          75078,
          2975649,
          128092,
          267880,
          50080,
          70071,
          173066,
          114669,
          165831,
          856942,
          453079,
          884503,
          5580479,
          204331,
          192467,
          406035,
          381186,
          871577,
          101228,
          2281089,
          206624,
          52526,
          176300,
          53760,
          295468,
          2073984,
          187474,
          364636,
          220234,
          1706325,
          3050934,
          8596914,
          87939,
          580862,
          548712,
          342297,
          4760014,
          1114943,
          814666,
          34099640,
          305688,
          1731665,
          1568749,
          2344847,
          352786,
          145382,
          26522838,
          3735303,
          333976,
          1796024,
          107917283,
          352810,
          2882062,
          881950,
          60378584,
          4186931,
          19067631,
          4360548,
          7739049,
          2037545,
          3123749,
          3577210,
          727883,
          4599680,
          4432349,
          766487,
          2062066,
          864959,
          1284646,
          8243880,
          9451946,
          8821782,
          464991,
          249905,
          14015786,
          3081925,
          7455447,
          9304609,
          75225693,
          2185266,
          2483955,
          405182,
          1246237,
          16174377,
          379643,
          7060876,
          9030581,
          24792061,
          18329466,
          20999103,
          5305622,
          16248701,
          475000,
          56059000,
          623374,
          574940,
          1017376,
          7022940,
          24665649,
          7659918,
          887416,
          1150403,
          7757130,
          1294640,
          2025032,
          1875009,
          1046166,
          2506446,
          1646664,
          3100650,
          74273505,
          3060963,
          106882290,
          3293258,
          10103647,
          3542843,
          28008462,
          6350058,
          4646830,
          4839383,
          5205343,
          3744790,
          4356743,
          6543194,
          5658940,
          11805917,
          47095453,
          4814244,
          7307756,
          5516708,
          4535117,
          5518918,
          6291602,
          8704851,
          10364769,
          10515579,
          7059537,
          6471394,
          10166502,
          8195551,
          16829545,
          3509048,
          9821335,
          8819059,
          23213577,
          14241034,
          10411980,
          11169531,
          11560259,
          13103828,
          19039770,
          7948159,
          7009668,
          7659747,
          10996440,
          11631245,
          16515735,
          10911750,
          14252830,
          20342852,
          11596143,
          11043445,
          8742261,
          57497699,
          10397365,
          12201122,
          14793904,
          10955425,
          34266564,
          13214030,
          11915856,
          13350177,
          13592872,
          18225165,
          17833000,
          11008432,
          12549485,
          19389454,
          32685679,
          30028592,
          13082288,
          60694737,
          12189514,
          15709385,
          13698390,
          35402000,
          18324242,
          22734486,
          17718223,
          14379751,
          34816824,
          15589458,
          14294842,
          19390029,
          13208023,
          19593740,
          55286454,
          15738632,
          33807409,
          37000000,
          37317558,
          19351569,
          30212620,
          23247539,
          15045676,
          20035310,
          22235901,
          32662299,
          46432264,
          31355910,
          17427926,
          27441122,
          34126138,
          41622502,
          25266129,
          43935763,
          38574362,
          28734552,
          37479778,
          57312489,
          23020488,
          24741977,
          25195050,
          25852764,
          24185781,
          68106245,
          28927720,
          25077977,
          25296447,
          25893485,
          31874869,
          33051296,
          43090741,
          33828318,
          45542421,
          25871834,
          22264487,
          33508922,
          19297522,
          31670931,
          39008741,
          23530831,
          22452209,
          36684100,
          62771059,
          56422687,
          25003155,
          32598931,
          34636443,
          30063805,
          29434429,
          35231365,
          26838389,
          23086480,
          33687630,
          27011180,
          65977295,
          38700761,
          25178165,
          61347797,
          28563926,
          36779296,
          35990505,
          65470529,
          43052274,
          30238577,
          30981850,
          47488536,
          36609966,
          74208267,
          50222058,
          57479076,
          40500000,
          25464480,
          42086887,
          37664855,
          60057639,
          76747441,
          25857987,
          59699513,
          66002004,
          25607347,
          70992898,
          50802661,
          39687528,
          32645546,
          50255310,
          81001787,
          69766619,
          34238611,
          60400856,
          58156435,
          33682273,
          41543207,
          60020099,
          27445118,
          51599647,
          31691811,
          60008303,
          53082743,
          75715436,
          65900000,
          62022014,
          28031250,
          47000485,
          52397389,
          40066497,
          43650785,
          67325559,
          35596227,
          49474048,
          73023275,
          37188667,
          66790248,
          81124129,
          50315140,
          42672630,
          86941509,
          40168080,
          62877175,
          55973336,
          69772969,
          63102666,
          51685963,
          59068786,
          52474616,
          67192859,
          43905746,
          91826289,
          54098051,
          42638165,
          65948711,
          52580895,
          40990055,
          95001351,
          36842118,
          57744720,
          75074950,
          45802315,
          74484168,
          66966987,
          95708457,
          55845943,
          81150692,
          62318875,
          91057006,
          88915214,
          62647540,
          107071655,
          88504640,
          67253092,
          60072596,
          80014842
         ],
         "xaxis": "x",
         "y": [
          3.6,
          6.2,
          7,
          5.5,
          6,
          7.1,
          6,
          6.7,
          6.8,
          5.9,
          6.5,
          6,
          6.1,
          7.1,
          5.9,
          7,
          7.1,
          5.6,
          6.4,
          7.3,
          6.5,
          7.8,
          6.4,
          6.1,
          5,
          5.6,
          6.9,
          5.9,
          5.8,
          7.1,
          7.1,
          6.5,
          6.3,
          7.2,
          7,
          7.1,
          6.6,
          5.7,
          7.1,
          6.6,
          6.3,
          6,
          6.2,
          6.9,
          6.6,
          7.3,
          6,
          6.9,
          6.8,
          6.7,
          7.5,
          6,
          6.2,
          5.6,
          6.6,
          7,
          6.2,
          4.6,
          7.4,
          6.8,
          7.2,
          6.5,
          7.1,
          6.3,
          6.3,
          6.8,
          8.2,
          7,
          5.5,
          5.2,
          6.6,
          7,
          5.9,
          7,
          7.2,
          6.7,
          3.7,
          6.2,
          6.7,
          7.3,
          6.5,
          7.1,
          7.5,
          6.3,
          6.6,
          6.5,
          3.2,
          7,
          5.6,
          7.3,
          7.8,
          7.8,
          8,
          7.9,
          7.2,
          7.9,
          5.9,
          6.7,
          5,
          4.8,
          6.1,
          6.8,
          7.4,
          7.1,
          5.4,
          7.1,
          8.1,
          6.3,
          5.5,
          7,
          3.7,
          4.8,
          2.6,
          3.7,
          8.3,
          4.7,
          8.4,
          4.5,
          6.4,
          5.9,
          6.1,
          7.2,
          7.2,
          6.4,
          6.5,
          6.9,
          3.6,
          5.2,
          6.1,
          6.7,
          6.2,
          4.9,
          4,
          4.7,
          3.8,
          6.8,
          5.5,
          5.1,
          4.4,
          6.8,
          2.4,
          4.8,
          6.8,
          6.7,
          5.6,
          6.8,
          3.3,
          6.2,
          7.3,
          5.7,
          5.2,
          6.5,
          5.6,
          7.3,
          6.9,
          6.1,
          1.8,
          4.9,
          6.4,
          3.6,
          5.9,
          6.5,
          5.1,
          6.9,
          6.7,
          6.7,
          3.8,
          3.2,
          4.9,
          5.3,
          5.2,
          6,
          7.5,
          7,
          5,
          3.7,
          4.8,
          7.2,
          6,
          6.9,
          5.8,
          7.5,
          6.5,
          7.4,
          6.5,
          4.8,
          5.8,
          6.7,
          6.1,
          5.7,
          7.2,
          5.5,
          6.5,
          4.7,
          1.7,
          5,
          3.5,
          6.9,
          3.2,
          7.3,
          6.1,
          5.6,
          3.6,
          6.6,
          6.8,
          5.7,
          5.3,
          5.2,
          5.8,
          4.5,
          5.6,
          6.7,
          6.6,
          4.6,
          6,
          6.8,
          8.5,
          5.8,
          6.2,
          5.3,
          3.8,
          6.1,
          7.4,
          8,
          5.2,
          5.1,
          4.9,
          2.8,
          6.8,
          7.3,
          5.2,
          4.7,
          6.6,
          6,
          5.9,
          4.2,
          7.5,
          5.9,
          6,
          4.4,
          4.3,
          6.9,
          4.8,
          6.7,
          6.8,
          7.1,
          4.6,
          4.3,
          5.6,
          6.5,
          6,
          6.2,
          6.6,
          5.8,
          6.6,
          3.4,
          6.4,
          4.6,
          6.4,
          6.4,
          5.4,
          6.8,
          6.1,
          6.2,
          4.7,
          5.6,
          5.7,
          5.9,
          6.3,
          5.2,
          4.1,
          4.6,
          4.1,
          5.3,
          7.3,
          6.5,
          5.4,
          5.9,
          6.1,
          3.9,
          7.2,
          6.2,
          5.4,
          7.1,
          4.7,
          4.1,
          4.3,
          6.5,
          6.2,
          6.1,
          6.7,
          8,
          6.8,
          5.8,
          4.8,
          5.7,
          6.3,
          6.1,
          4.8,
          6.1,
          5.5,
          6.1,
          4.5,
          8.4,
          5.3,
          5.2,
          6,
          5.1,
          4.9,
          5.7,
          2.7,
          4.6,
          7,
          6.5,
          5.1,
          4.9,
          2.9,
          6.5,
          6.7,
          7.3,
          4.7,
          7,
          5,
          7.4,
          5.9,
          6.3,
          5.3,
          5.8,
          6.1,
          6.3,
          3.9,
          5.6,
          7.1,
          5.9,
          4.5,
          6.7,
          5.3,
          5.7,
          6.2,
          6.3,
          5.8,
          6.2,
          6.4,
          6.8,
          4.8,
          6.8,
          6.2,
          4.9,
          6.6,
          5.9,
          6.4,
          7.2,
          6.1,
          7.7,
          7.1,
          3,
          5.9
         ],
         "yaxis": "y"
        },
        {
         "hovertemplate": "clusters=%{marker.color}<br>grossboxoffice=%{x}<br>user_rating=%{y}<extra></extra>",
         "legendgroup": "3",
         "marker": {
          "color": [
           3,
           3,
           3,
           3,
           3,
           3,
           3,
           3,
           3,
           3,
           3,
           3,
           3,
           3,
           3,
           3,
           3,
           3,
           3,
           3,
           3,
           3,
           3,
           3,
           3,
           3,
           3,
           3,
           3,
           3,
           3,
           3,
           3,
           3,
           3,
           3,
           3,
           3,
           3,
           3,
           3,
           3,
           3,
           3,
           3,
           3,
           3,
           3,
           3,
           3,
           3,
           3,
           3,
           3,
           3,
           3,
           3,
           3,
           3,
           3,
           3,
           3,
           3,
           3,
           3,
           3,
           3,
           3,
           3,
           3,
           3,
           3,
           3,
           3,
           3,
           3,
           3,
           3,
           3,
           3,
           3,
           3,
           3,
           3,
           3,
           3,
           3,
           3,
           3,
           3,
           3,
           3,
           3,
           3,
           3,
           3
          ],
          "coloraxis": "coloraxis",
          "opacity": 0.7,
          "symbol": "diamond"
         },
         "mode": "markers",
         "name": "3",
         "orientation": "v",
         "showlegend": true,
         "type": "scatter",
         "x": [
          132180323,
          179213434,
          207515725,
          108638745,
          104636188,
          170708996,
          190000000,
          170128460,
          96085477,
          101393569,
          122000000,
          168167691,
          105316267,
          109155885,
          119498909,
          113244290,
          93945766,
          67286731,
          141591324,
          152000000,
          131426169,
          126121167,
          180557550,
          148336445,
          101702060,
          117575636,
          102001626,
          101595121,
          143049560,
          156505388,
          122650962,
          178398138,
          160846332,
          96917897,
          123729176,
          81557479,
          95149435,
          249430327,
          65247655,
          177085826,
          104383624,
          75817994,
          170938575,
          97030725,
          163777560,
          191200000,
          102356381,
          132373442,
          121468960,
          109993847,
          202548575,
          82161969,
          190212113,
          104148781,
          114324072,
          138191428,
          124870275,
          113006880,
          110594793,
          119420252,
          146336178,
          134527196,
          75754670,
          258264745,
          266159621,
          180622424,
          94770548,
          118311368,
          105219735,
          244082376,
          95328937,
          116643346,
          90755643,
          100446895,
          125531634,
          264105545,
          178262620,
          197992827,
          133756285,
          154529187,
          196485100,
          133375846,
          188600000,
          138396624,
          148213377,
          116724075,
          224070000,
          185258983,
          255870172,
          166112167,
          227225045,
          238371987,
          198539855,
          217536138,
          186739919,
          234360014
         ],
         "xaxis": "x",
         "y": [
          7.5,
          7.7,
          7.8,
          7.7,
          6.6,
          8,
          7.4,
          6,
          5.8,
          4.7,
          6.6,
          7.6,
          5.9,
          7.3,
          5.4,
          7.3,
          6.2,
          6.6,
          5.7,
          7.1,
          4.8,
          5.2,
          7,
          7.4,
          5.8,
          5.7,
          5.1,
          3.6,
          6.9,
          5.2,
          5.6,
          8.2,
          6.4,
          8.1,
          5.7,
          6.9,
          5.2,
          5,
          6.4,
          6.1,
          6.5,
          4.8,
          8,
          7.1,
          6,
          5.5,
          7.4,
          8.5,
          7.8,
          6.1,
          7.1,
          6.5,
          5.6,
          5.4,
          6.6,
          5.7,
          7.1,
          5.2,
          4.8,
          5,
          5.3,
          7.5,
          7.3,
          8.4,
          6.7,
          5.8,
          4.9,
          6.5,
          6.8,
          7,
          3.9,
          5.9,
          6.7,
          3.4,
          6.1,
          5.5,
          5,
          6.6,
          6.1,
          7.1,
          6.8,
          6.7,
          7.5,
          6.2,
          6.4,
          6.7,
          4.5,
          7.7,
          8,
          5.9,
          8.2,
          6.6,
          5.5,
          6.4,
          6.3,
          6.9
         ],
         "yaxis": "y"
        },
        {
         "hovertemplate": "clusters=%{marker.color}<br>grossboxoffice=%{x}<br>user_rating=%{y}<extra></extra>",
         "legendgroup": "2",
         "marker": {
          "color": [
           2,
           2,
           2,
           2,
           2,
           2,
           2,
           2,
           2,
           2,
           2,
           2,
           2,
           2,
           2,
           2,
           2,
           2,
           2,
           2
          ],
          "coloraxis": "coloraxis",
          "opacity": 0.7,
          "symbol": "square"
         },
         "mode": "markers",
         "name": "2",
         "orientation": "v",
         "showlegend": true,
         "type": "scatter",
         "x": [
          306776732,
          456758981,
          304850102,
          602609487,
          351112395,
          374111707,
          311312624,
          450717150,
          401128639,
          574480841,
          431971116,
          395668139,
          347234916,
          391081192,
          461981126,
          430000000,
          338800000,
          414318300,
          317011114,
          309404152
         ],
         "xaxis": "x",
         "y": [
          7.2,
          7.8,
          7.8,
          6.5,
          7.8,
          6.3,
          6.9,
          7.6,
          5.1,
          6.4,
          6,
          6.8,
          7,
          6.5,
          7.4,
          6.2,
          6.8,
          7.8,
          6.5,
          7
         ],
         "yaxis": "y"
        },
        {
         "hovertemplate": "clusters=%{marker.color}<br>grossboxoffice=%{x}<br>user_rating=%{y}<extra></extra>",
         "legendgroup": "1",
         "marker": {
          "color": [
           1,
           1,
           1,
           1,
           1,
           1,
           1,
           1
          ],
          "coloraxis": "coloraxis",
          "opacity": 0.7,
          "symbol": "x"
         },
         "mode": "markers",
         "name": "1",
         "orientation": "v",
         "showlegend": true,
         "type": "scatter",
         "x": [
          820186685,
          870761744,
          864625978,
          976475550,
          761300818,
          895921036,
          635700000,
          1001921825
         ],
         "xaxis": "x",
         "y": [
          8.9,
          8.8,
          8.2,
          7.2,
          7.7,
          7.6,
          8.7,
          8.9
         ],
         "yaxis": "y"
        }
       ],
       "layout": {
        "coloraxis": {
         "colorbar": {
          "title": {
           "text": "clusters"
          }
         },
         "colorscale": [
          [
           0,
           "#0d0887"
          ],
          [
           0.1111111111111111,
           "#46039f"
          ],
          [
           0.2222222222222222,
           "#7201a8"
          ],
          [
           0.3333333333333333,
           "#9c179e"
          ],
          [
           0.4444444444444444,
           "#bd3786"
          ],
          [
           0.5555555555555556,
           "#d8576b"
          ],
          [
           0.6666666666666666,
           "#ed7953"
          ],
          [
           0.7777777777777778,
           "#fb9f3a"
          ],
          [
           0.8888888888888888,
           "#fdca26"
          ],
          [
           1,
           "#f0f921"
          ]
         ]
        },
        "legend": {
         "title": {
          "text": "clusters"
         },
         "tracegroupgap": 0
        },
        "template": {
         "data": {
          "bar": [
           {
            "error_x": {
             "color": "#2a3f5f"
            },
            "error_y": {
             "color": "#2a3f5f"
            },
            "marker": {
             "line": {
              "color": "#E5ECF6",
              "width": 0.5
             },
             "pattern": {
              "fillmode": "overlay",
              "size": 10,
              "solidity": 0.2
             }
            },
            "type": "bar"
           }
          ],
          "barpolar": [
           {
            "marker": {
             "line": {
              "color": "#E5ECF6",
              "width": 0.5
             },
             "pattern": {
              "fillmode": "overlay",
              "size": 10,
              "solidity": 0.2
             }
            },
            "type": "barpolar"
           }
          ],
          "carpet": [
           {
            "aaxis": {
             "endlinecolor": "#2a3f5f",
             "gridcolor": "white",
             "linecolor": "white",
             "minorgridcolor": "white",
             "startlinecolor": "#2a3f5f"
            },
            "baxis": {
             "endlinecolor": "#2a3f5f",
             "gridcolor": "white",
             "linecolor": "white",
             "minorgridcolor": "white",
             "startlinecolor": "#2a3f5f"
            },
            "type": "carpet"
           }
          ],
          "choropleth": [
           {
            "colorbar": {
             "outlinewidth": 0,
             "ticks": ""
            },
            "type": "choropleth"
           }
          ],
          "contour": [
           {
            "colorbar": {
             "outlinewidth": 0,
             "ticks": ""
            },
            "colorscale": [
             [
              0,
              "#0d0887"
             ],
             [
              0.1111111111111111,
              "#46039f"
             ],
             [
              0.2222222222222222,
              "#7201a8"
             ],
             [
              0.3333333333333333,
              "#9c179e"
             ],
             [
              0.4444444444444444,
              "#bd3786"
             ],
             [
              0.5555555555555556,
              "#d8576b"
             ],
             [
              0.6666666666666666,
              "#ed7953"
             ],
             [
              0.7777777777777778,
              "#fb9f3a"
             ],
             [
              0.8888888888888888,
              "#fdca26"
             ],
             [
              1,
              "#f0f921"
             ]
            ],
            "type": "contour"
           }
          ],
          "contourcarpet": [
           {
            "colorbar": {
             "outlinewidth": 0,
             "ticks": ""
            },
            "type": "contourcarpet"
           }
          ],
          "heatmap": [
           {
            "colorbar": {
             "outlinewidth": 0,
             "ticks": ""
            },
            "colorscale": [
             [
              0,
              "#0d0887"
             ],
             [
              0.1111111111111111,
              "#46039f"
             ],
             [
              0.2222222222222222,
              "#7201a8"
             ],
             [
              0.3333333333333333,
              "#9c179e"
             ],
             [
              0.4444444444444444,
              "#bd3786"
             ],
             [
              0.5555555555555556,
              "#d8576b"
             ],
             [
              0.6666666666666666,
              "#ed7953"
             ],
             [
              0.7777777777777778,
              "#fb9f3a"
             ],
             [
              0.8888888888888888,
              "#fdca26"
             ],
             [
              1,
              "#f0f921"
             ]
            ],
            "type": "heatmap"
           }
          ],
          "heatmapgl": [
           {
            "colorbar": {
             "outlinewidth": 0,
             "ticks": ""
            },
            "colorscale": [
             [
              0,
              "#0d0887"
             ],
             [
              0.1111111111111111,
              "#46039f"
             ],
             [
              0.2222222222222222,
              "#7201a8"
             ],
             [
              0.3333333333333333,
              "#9c179e"
             ],
             [
              0.4444444444444444,
              "#bd3786"
             ],
             [
              0.5555555555555556,
              "#d8576b"
             ],
             [
              0.6666666666666666,
              "#ed7953"
             ],
             [
              0.7777777777777778,
              "#fb9f3a"
             ],
             [
              0.8888888888888888,
              "#fdca26"
             ],
             [
              1,
              "#f0f921"
             ]
            ],
            "type": "heatmapgl"
           }
          ],
          "histogram": [
           {
            "marker": {
             "pattern": {
              "fillmode": "overlay",
              "size": 10,
              "solidity": 0.2
             }
            },
            "type": "histogram"
           }
          ],
          "histogram2d": [
           {
            "colorbar": {
             "outlinewidth": 0,
             "ticks": ""
            },
            "colorscale": [
             [
              0,
              "#0d0887"
             ],
             [
              0.1111111111111111,
              "#46039f"
             ],
             [
              0.2222222222222222,
              "#7201a8"
             ],
             [
              0.3333333333333333,
              "#9c179e"
             ],
             [
              0.4444444444444444,
              "#bd3786"
             ],
             [
              0.5555555555555556,
              "#d8576b"
             ],
             [
              0.6666666666666666,
              "#ed7953"
             ],
             [
              0.7777777777777778,
              "#fb9f3a"
             ],
             [
              0.8888888888888888,
              "#fdca26"
             ],
             [
              1,
              "#f0f921"
             ]
            ],
            "type": "histogram2d"
           }
          ],
          "histogram2dcontour": [
           {
            "colorbar": {
             "outlinewidth": 0,
             "ticks": ""
            },
            "colorscale": [
             [
              0,
              "#0d0887"
             ],
             [
              0.1111111111111111,
              "#46039f"
             ],
             [
              0.2222222222222222,
              "#7201a8"
             ],
             [
              0.3333333333333333,
              "#9c179e"
             ],
             [
              0.4444444444444444,
              "#bd3786"
             ],
             [
              0.5555555555555556,
              "#d8576b"
             ],
             [
              0.6666666666666666,
              "#ed7953"
             ],
             [
              0.7777777777777778,
              "#fb9f3a"
             ],
             [
              0.8888888888888888,
              "#fdca26"
             ],
             [
              1,
              "#f0f921"
             ]
            ],
            "type": "histogram2dcontour"
           }
          ],
          "mesh3d": [
           {
            "colorbar": {
             "outlinewidth": 0,
             "ticks": ""
            },
            "type": "mesh3d"
           }
          ],
          "parcoords": [
           {
            "line": {
             "colorbar": {
              "outlinewidth": 0,
              "ticks": ""
             }
            },
            "type": "parcoords"
           }
          ],
          "pie": [
           {
            "automargin": true,
            "type": "pie"
           }
          ],
          "scatter": [
           {
            "fillpattern": {
             "fillmode": "overlay",
             "size": 10,
             "solidity": 0.2
            },
            "type": "scatter"
           }
          ],
          "scatter3d": [
           {
            "line": {
             "colorbar": {
              "outlinewidth": 0,
              "ticks": ""
             }
            },
            "marker": {
             "colorbar": {
              "outlinewidth": 0,
              "ticks": ""
             }
            },
            "type": "scatter3d"
           }
          ],
          "scattercarpet": [
           {
            "marker": {
             "colorbar": {
              "outlinewidth": 0,
              "ticks": ""
             }
            },
            "type": "scattercarpet"
           }
          ],
          "scattergeo": [
           {
            "marker": {
             "colorbar": {
              "outlinewidth": 0,
              "ticks": ""
             }
            },
            "type": "scattergeo"
           }
          ],
          "scattergl": [
           {
            "marker": {
             "colorbar": {
              "outlinewidth": 0,
              "ticks": ""
             }
            },
            "type": "scattergl"
           }
          ],
          "scattermapbox": [
           {
            "marker": {
             "colorbar": {
              "outlinewidth": 0,
              "ticks": ""
             }
            },
            "type": "scattermapbox"
           }
          ],
          "scatterpolar": [
           {
            "marker": {
             "colorbar": {
              "outlinewidth": 0,
              "ticks": ""
             }
            },
            "type": "scatterpolar"
           }
          ],
          "scatterpolargl": [
           {
            "marker": {
             "colorbar": {
              "outlinewidth": 0,
              "ticks": ""
             }
            },
            "type": "scatterpolargl"
           }
          ],
          "scatterternary": [
           {
            "marker": {
             "colorbar": {
              "outlinewidth": 0,
              "ticks": ""
             }
            },
            "type": "scatterternary"
           }
          ],
          "surface": [
           {
            "colorbar": {
             "outlinewidth": 0,
             "ticks": ""
            },
            "colorscale": [
             [
              0,
              "#0d0887"
             ],
             [
              0.1111111111111111,
              "#46039f"
             ],
             [
              0.2222222222222222,
              "#7201a8"
             ],
             [
              0.3333333333333333,
              "#9c179e"
             ],
             [
              0.4444444444444444,
              "#bd3786"
             ],
             [
              0.5555555555555556,
              "#d8576b"
             ],
             [
              0.6666666666666666,
              "#ed7953"
             ],
             [
              0.7777777777777778,
              "#fb9f3a"
             ],
             [
              0.8888888888888888,
              "#fdca26"
             ],
             [
              1,
              "#f0f921"
             ]
            ],
            "type": "surface"
           }
          ],
          "table": [
           {
            "cells": {
             "fill": {
              "color": "#EBF0F8"
             },
             "line": {
              "color": "white"
             }
            },
            "header": {
             "fill": {
              "color": "#C8D4E3"
             },
             "line": {
              "color": "white"
             }
            },
            "type": "table"
           }
          ]
         },
         "layout": {
          "annotationdefaults": {
           "arrowcolor": "#2a3f5f",
           "arrowhead": 0,
           "arrowwidth": 1
          },
          "autotypenumbers": "strict",
          "coloraxis": {
           "colorbar": {
            "outlinewidth": 0,
            "ticks": ""
           }
          },
          "colorscale": {
           "diverging": [
            [
             0,
             "#8e0152"
            ],
            [
             0.1,
             "#c51b7d"
            ],
            [
             0.2,
             "#de77ae"
            ],
            [
             0.3,
             "#f1b6da"
            ],
            [
             0.4,
             "#fde0ef"
            ],
            [
             0.5,
             "#f7f7f7"
            ],
            [
             0.6,
             "#e6f5d0"
            ],
            [
             0.7,
             "#b8e186"
            ],
            [
             0.8,
             "#7fbc41"
            ],
            [
             0.9,
             "#4d9221"
            ],
            [
             1,
             "#276419"
            ]
           ],
           "sequential": [
            [
             0,
             "#0d0887"
            ],
            [
             0.1111111111111111,
             "#46039f"
            ],
            [
             0.2222222222222222,
             "#7201a8"
            ],
            [
             0.3333333333333333,
             "#9c179e"
            ],
            [
             0.4444444444444444,
             "#bd3786"
            ],
            [
             0.5555555555555556,
             "#d8576b"
            ],
            [
             0.6666666666666666,
             "#ed7953"
            ],
            [
             0.7777777777777778,
             "#fb9f3a"
            ],
            [
             0.8888888888888888,
             "#fdca26"
            ],
            [
             1,
             "#f0f921"
            ]
           ],
           "sequentialminus": [
            [
             0,
             "#0d0887"
            ],
            [
             0.1111111111111111,
             "#46039f"
            ],
            [
             0.2222222222222222,
             "#7201a8"
            ],
            [
             0.3333333333333333,
             "#9c179e"
            ],
            [
             0.4444444444444444,
             "#bd3786"
            ],
            [
             0.5555555555555556,
             "#d8576b"
            ],
            [
             0.6666666666666666,
             "#ed7953"
            ],
            [
             0.7777777777777778,
             "#fb9f3a"
            ],
            [
             0.8888888888888888,
             "#fdca26"
            ],
            [
             1,
             "#f0f921"
            ]
           ]
          },
          "colorway": [
           "#636efa",
           "#EF553B",
           "#00cc96",
           "#ab63fa",
           "#FFA15A",
           "#19d3f3",
           "#FF6692",
           "#B6E880",
           "#FF97FF",
           "#FECB52"
          ],
          "font": {
           "color": "#2a3f5f"
          },
          "geo": {
           "bgcolor": "white",
           "lakecolor": "white",
           "landcolor": "#E5ECF6",
           "showlakes": true,
           "showland": true,
           "subunitcolor": "white"
          },
          "hoverlabel": {
           "align": "left"
          },
          "hovermode": "closest",
          "mapbox": {
           "style": "light"
          },
          "paper_bgcolor": "white",
          "plot_bgcolor": "#E5ECF6",
          "polar": {
           "angularaxis": {
            "gridcolor": "white",
            "linecolor": "white",
            "ticks": ""
           },
           "bgcolor": "#E5ECF6",
           "radialaxis": {
            "gridcolor": "white",
            "linecolor": "white",
            "ticks": ""
           }
          },
          "scene": {
           "xaxis": {
            "backgroundcolor": "#E5ECF6",
            "gridcolor": "white",
            "gridwidth": 2,
            "linecolor": "white",
            "showbackground": true,
            "ticks": "",
            "zerolinecolor": "white"
           },
           "yaxis": {
            "backgroundcolor": "#E5ECF6",
            "gridcolor": "white",
            "gridwidth": 2,
            "linecolor": "white",
            "showbackground": true,
            "ticks": "",
            "zerolinecolor": "white"
           },
           "zaxis": {
            "backgroundcolor": "#E5ECF6",
            "gridcolor": "white",
            "gridwidth": 2,
            "linecolor": "white",
            "showbackground": true,
            "ticks": "",
            "zerolinecolor": "white"
           }
          },
          "shapedefaults": {
           "line": {
            "color": "#2a3f5f"
           }
          },
          "ternary": {
           "aaxis": {
            "gridcolor": "white",
            "linecolor": "white",
            "ticks": ""
           },
           "baxis": {
            "gridcolor": "white",
            "linecolor": "white",
            "ticks": ""
           },
           "bgcolor": "#E5ECF6",
           "caxis": {
            "gridcolor": "white",
            "linecolor": "white",
            "ticks": ""
           }
          },
          "title": {
           "x": 0.05
          },
          "xaxis": {
           "automargin": true,
           "gridcolor": "white",
           "linecolor": "white",
           "ticks": "",
           "title": {
            "standoff": 15
           },
           "zerolinecolor": "white",
           "zerolinewidth": 2
          },
          "yaxis": {
           "automargin": true,
           "gridcolor": "white",
           "linecolor": "white",
           "ticks": "",
           "title": {
            "standoff": 15
           },
           "zerolinecolor": "white",
           "zerolinewidth": 2
          }
         }
        },
        "title": {
         "text": "2D Scatter Plot of Clusters"
        },
        "xaxis": {
         "anchor": "y",
         "domain": [
          0,
          1
         ],
         "title": {
          "text": "grossboxoffice"
         }
        },
        "yaxis": {
         "anchor": "x",
         "domain": [
          0,
          1
         ],
         "title": {
          "text": "user_rating"
         }
        }
       }
      }
     },
     "metadata": {},
     "output_type": "display_data"
    }
   ],
   "source": [
    "fig = px.scatter(df, x='grossboxoffice', y='user_rating', color='clusters',\n",
    "                 symbol='clusters', opacity=0.7, size_max=10,\n",
    "                 title='2D Scatter Plot of Clusters', color_discrete_sequence=px.colors.qualitative.Set1)\n",
    "fig.show()"
   ]
  }
 ],
 "metadata": {
  "kernelspec": {
   "display_name": "base",
   "language": "python",
   "name": "python3"
  },
  "language_info": {
   "codemirror_mode": {
    "name": "ipython",
    "version": 3
   },
   "file_extension": ".py",
   "mimetype": "text/x-python",
   "name": "python",
   "nbconvert_exporter": "python",
   "pygments_lexer": "ipython3",
   "version": "3.11.5"
  }
 },
 "nbformat": 4,
 "nbformat_minor": 2
}
